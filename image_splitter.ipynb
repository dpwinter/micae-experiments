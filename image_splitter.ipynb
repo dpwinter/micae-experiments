{
 "cells": [
  {
   "cell_type": "code",
   "execution_count": 21,
   "metadata": {},
   "outputs": [],
   "source": [
    "def split(im, n):\n",
    "    _, height = im.shape[:-1]  # W*H\n",
    "    ndim = height // n\n",
    "    im = im.reshape(ndim, n, -1, n)  # split in n 2d arrays along cols\n",
    "    im = im.swapaxes(1, 2)     # restore order: zig-zag\n",
    "    im = im.reshape(-1, ndim, ndim) # x 2d arrays with dims (n,n)\n",
    "    return im"
   ]
  },
  {
   "cell_type": "code",
   "execution_count": 22,
   "metadata": {},
   "outputs": [
    {
     "name": "stdout",
     "output_type": "stream",
     "text": [
      "[[[0.15959685 0.45476574 0.86139493 0.8448655 ]\n",
      "  [0.3539857  0.67909059 0.49573629 0.7886483 ]\n",
      "  [0.06373668 0.39401575 0.23081128 0.61465876]\n",
      "  [0.08820651 0.11880093 0.83189946 0.42462081]]\n",
      "\n",
      " [[0.6378983  0.06928804 0.25111081 0.28865491]\n",
      "  [0.17049066 0.62269197 0.22005946 0.10167346]\n",
      "  [0.77934883 0.40463542 0.57577014 0.68466471]\n",
      "  [0.47896536 0.02329739 0.67403451 0.78549744]]]\n"
     ]
    },
    {
     "data": {
      "text/plain": [
       "array([[[[0.15959685],\n",
       "         [0.45476574]],\n",
       "\n",
       "        [[0.06373668],\n",
       "         [0.39401575]]],\n",
       "\n",
       "\n",
       "       [[[0.86139493],\n",
       "         [0.8448655 ]],\n",
       "\n",
       "        [[0.23081128],\n",
       "         [0.61465876]]],\n",
       "\n",
       "\n",
       "       [[[0.3539857 ],\n",
       "         [0.67909059]],\n",
       "\n",
       "        [[0.08820651],\n",
       "         [0.11880093]]],\n",
       "\n",
       "\n",
       "       [[[0.49573629],\n",
       "         [0.7886483 ]],\n",
       "\n",
       "        [[0.83189946],\n",
       "         [0.42462081]]],\n",
       "\n",
       "\n",
       "       [[[0.6378983 ],\n",
       "         [0.06928804]],\n",
       "\n",
       "        [[0.77934883],\n",
       "         [0.40463542]]],\n",
       "\n",
       "\n",
       "       [[[0.25111081],\n",
       "         [0.28865491]],\n",
       "\n",
       "        [[0.57577014],\n",
       "         [0.68466471]]],\n",
       "\n",
       "\n",
       "       [[[0.17049066],\n",
       "         [0.62269197]],\n",
       "\n",
       "        [[0.47896536],\n",
       "         [0.02329739]]],\n",
       "\n",
       "\n",
       "       [[[0.22005946],\n",
       "         [0.10167346]],\n",
       "\n",
       "        [[0.67403451],\n",
       "         [0.78549744]]]])"
      ]
     },
     "execution_count": 22,
     "metadata": {},
     "output_type": "execute_result"
    }
   ],
   "source": [
    "import numpy as np\n",
    "\n",
    "r = np.random.rand(2,4,4)\n",
    "print(r)\n",
    "split(r, 2)"
   ]
  }
 ],
 "metadata": {
  "kernelspec": {
   "display_name": "Python 3",
   "language": "python",
   "name": "python3"
  },
  "language_info": {
   "codemirror_mode": {
    "name": "ipython",
    "version": 3
   },
   "file_extension": ".py",
   "mimetype": "text/x-python",
   "name": "python",
   "nbconvert_exporter": "python",
   "pygments_lexer": "ipython3",
   "version": "3.8.5"
  }
 },
 "nbformat": 4,
 "nbformat_minor": 4
}
