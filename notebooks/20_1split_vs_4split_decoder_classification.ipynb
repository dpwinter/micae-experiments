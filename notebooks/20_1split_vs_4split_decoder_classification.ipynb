{
 "cells": [
  {
   "cell_type": "code",
   "execution_count": 12,
   "metadata": {},
   "outputs": [],
   "source": [
    "from keras.layers import Flatten, Conv2D, Conv2DTranspose, Dense, Input, Reshape, concatenate, Activation\n",
    "from keras import Sequential\n",
    "from keras.models import Model\n",
    "\n",
    "import tensorflow as tf\n",
    "import keras\n",
    "import sys; sys.path.insert(0, '..')\n",
    "import utils\n",
    "\n",
    "class MultiSplit(Model):\n",
    "    def __init__(self, n_splits, latent_dim, io_shape):\n",
    "        super(MultiSplit, self).__init__()\n",
    "        n_filters = [32, 64]\n",
    "        size = int( io_shape[0] // (n_splits**(1/2)) )  # W = H\n",
    "        self.encoder = self._create_encoder(latent_dim//n_splits, (size, size,1), n_filters)\n",
    "        self.input_reshaper = utils.Reshaper((n_splits, size, size, 1), (size, size,1))\n",
    "        self.latent_reshaper = utils.Reshaper([latent_dim//n_splits], [latent_dim])\n",
    "        self.classifier = self._create_classifier(latent_dim)\n",
    "        self.decoder = self._create_decoder(latent_dim, io_shape, n_filters)\n",
    "        \n",
    "    def train_step(self, data):\n",
    "        x, y = data\n",
    "        with tf.GradientTape() as tape:\n",
    "            y_pred = self(x)\n",
    "            loss = self.compiled_loss(y, y_pred)\n",
    "        grads = tape.gradient(loss, self.trainable_variables)\n",
    "        self.optimizer.apply_gradients(zip(grads, self.trainable_variables))\n",
    "        self.compiled_metrics.update_state(y, y_pred)\n",
    "        return {m.name: m.result() for m in self.metrics}\n",
    "    \n",
    "    def test_step(self, data):\n",
    "        x, y = data\n",
    "        y_pred = self(x, training=False)\n",
    "        self.compiled_loss(y, y_pred)\n",
    "        self.compiled_metrics.update_state(y, y_pred)\n",
    "        return {m.name: m.result() for m in self.metrics}\n",
    "    \n",
    "    def call(self, x, training=True):\n",
    "        z = self.encode(x, training=training)\n",
    "#         y_pred = self.classify(z, training=training)\n",
    "        y_pred = self.classifier( self.decode(z ,training=training) )\n",
    "        return y_pred\n",
    "        \n",
    "    def encode(self, x, training=True):\n",
    "        return self.encoder( self.input_reshaper(x) , training)\n",
    "    \n",
    "    def decode(self, z, training=True):\n",
    "        return self.decoder( self.latent_reshaper(z) , training)\n",
    "    \n",
    "#     def classify(self, z, training=True):\n",
    "#         return self.classifier( self.latent_reshaper(z) , training)\n",
    "    \n",
    "    def _create_encoder(self, latent_dim, input_shape, n_filters):\n",
    "        return Sequential([\n",
    "            Input(shape=input_shape),\n",
    "            Conv2D(filters=n_filters[0], kernel_size=(3,3), strides=(2,2), activation='relu', padding='same'),\n",
    "            Conv2D(filters=n_filters[1], kernel_size=(3,3), strides=(2,2), activation='relu', padding='same'),\n",
    "            Flatten(),\n",
    "            Dense(units=latent_dim)\n",
    "        ], name='encoder')\n",
    "\n",
    "    def _create_decoder(self, latent_dim, io_shape, n_filters):\n",
    "        return Sequential([\n",
    "            Input(shape=(latent_dim)),\n",
    "            Dense(io_shape[0]//4 * io_shape[1]//4 * n_filters[0]),  # factor 4 due to conv.\n",
    "            Reshape((io_shape[0]//4, io_shape[1]//4, n_filters[0])),\n",
    "            Conv2DTranspose(filters=n_filters[1], kernel_size=(3,3), strides=(2,2), activation='relu', padding='same'),\n",
    "            Conv2DTranspose(filters=n_filters[0], kernel_size=(3,3), strides=(2,2), activation='relu', padding='same'),\n",
    "            Conv2DTranspose(filters=1, kernel_size=(3,3), padding='same'),\n",
    "            Activation('sigmoid', name='decoder_out')\n",
    "        ])\n",
    "    \n",
    "    def _create_classifier(self, latent_dim):\n",
    "        return Sequential([\n",
    "#             Input(shape=(latent_dim)),\n",
    "            Input(shape=(28,28,1)),\n",
    "            Flatten(),\n",
    "            Dense(50, activation='relu'),\n",
    "            Dense(50, activation='relu'),\n",
    "            Dense(10, activation='softmax')\n",
    "        ])"
   ]
  },
  {
   "cell_type": "code",
   "execution_count": 13,
   "metadata": {},
   "outputs": [
    {
     "name": "stdout",
     "output_type": "stream",
     "text": [
      "(10000, 4, 14, 14, 1)\n"
     ]
    }
   ],
   "source": [
    "import keras\n",
    "import numpy as np\n",
    "\n",
    "n_splits = 4\n",
    "io_shape = (28,28,1)\n",
    "size = int(io_shape[0] // (n_splits**(1/2)))\n",
    "latent_dim = 16\n",
    "\n",
    "model = MultiSplit(n_splits, latent_dim, io_shape)\n",
    "\n",
    "(x_train, y_train), (x_test, y_test) = keras.datasets.mnist.load_data()\n",
    "\n",
    "x_train = x_train.reshape(x_train.shape[0], 28, 28, 1)\n",
    "x_train = x_train.astype('float32') / 255.\n",
    "x_train_split = np.array([utils.split(x, size, size) for x in x_train], dtype='float32')\n",
    "y_train = keras.utils.to_categorical(y_train)\n",
    "\n",
    "x_test = x_test.reshape(x_test.shape[0], 28, 28, 1)\n",
    "x_test = x_test.astype('float32') / 255.\n",
    "x_test_split = np.array([utils.split(x, size, size) for x in x_test], dtype='float32')\n",
    "y_test = keras.utils.to_categorical(y_test)\n",
    "print(x_test_split.shape)"
   ]
  },
  {
   "cell_type": "code",
   "execution_count": 14,
   "metadata": {},
   "outputs": [
    {
     "name": "stdout",
     "output_type": "stream",
     "text": [
      "Epoch 1/10\n",
      "1875/1875 [==============================] - 5s 3ms/step - loss: 0.3025 - acc: 0.9128 - val_loss: 0.1956 - val_acc: 0.9426\n",
      "Epoch 2/10\n",
      "1875/1875 [==============================] - 5s 3ms/step - loss: 0.1613 - acc: 0.9518 - val_loss: 0.1478 - val_acc: 0.9581\n",
      "Epoch 3/10\n",
      "1875/1875 [==============================] - 5s 3ms/step - loss: 0.1322 - acc: 0.9585 - val_loss: 0.1424 - val_acc: 0.9570\n",
      "Epoch 4/10\n",
      "1875/1875 [==============================] - 5s 3ms/step - loss: 0.1150 - acc: 0.9635 - val_loss: 0.1295 - val_acc: 0.9625\n",
      "Epoch 5/10\n",
      "1875/1875 [==============================] - 5s 3ms/step - loss: 0.1032 - acc: 0.9681 - val_loss: 0.1240 - val_acc: 0.9642\n",
      "Epoch 6/10\n",
      "1875/1875 [==============================] - 5s 3ms/step - loss: 0.0941 - acc: 0.9707 - val_loss: 0.1292 - val_acc: 0.9613\n",
      "Epoch 7/10\n",
      "1875/1875 [==============================] - 5s 3ms/step - loss: 0.0856 - acc: 0.9733 - val_loss: 0.1290 - val_acc: 0.9640\n",
      "Epoch 8/10\n",
      "1875/1875 [==============================] - 5s 3ms/step - loss: 0.0813 - acc: 0.9741 - val_loss: 0.1178 - val_acc: 0.9662\n",
      "Epoch 9/10\n",
      "1875/1875 [==============================] - 5s 3ms/step - loss: 0.0746 - acc: 0.9755 - val_loss: 0.1243 - val_acc: 0.9653\n",
      "Epoch 10/10\n",
      "1875/1875 [==============================] - 5s 3ms/step - loss: 0.0704 - acc: 0.9774 - val_loss: 0.1202 - val_acc: 0.9659\n"
     ]
    },
    {
     "data": {
      "image/png": "[encoded data removed]",
      "text/plain": [
       "<Figure size 432x288 with 1 Axes>"
      ]
     },
     "metadata": {
      "needs_background": "light"
     },
     "output_type": "display_data"
    }
   ],
   "source": [
    "# model.encoder.load_weights('../weights/19_CE16_epoch25.h5')\n",
    "model.encoder.load_weights('../weights/18_CE4_ordered_epoch25.h5')\n",
    "model.decoder.load_weights('../weights/20_CD4_epoch25.h5')\n",
    "for layer in model.encoder.layers:\n",
    "    layer.trainable = False\n",
    "for layer in model.decoder.layers:\n",
    "    layer.trainable = False\n",
    "    \n",
    "model.compile(loss='categorical_crossentropy', metrics=['acc'], optimizer='adam') # COMPILE AFTER WEIGHTS LOADED\n",
    "# model.compile(loss='mse', optimizer='adam') # COMPILE AFTER WEIGHTS LOADED\n",
    "\n",
    "# history = model.fit(x_train_split, x_train, validation_data=(x_test_split, x_test), epochs=25, batch_size=32)\n",
    "history = model.fit(x_train_split, y_train, validation_data=(x_test_split, y_test), epochs=10, batch_size=32)\n",
    "\n",
    "import matplotlib.pyplot as plt\n",
    "plt.plot(history.history['loss'])\n",
    "plt.plot(history.history['val_loss'])\n",
    "plt.title('Keras CE16+classifier loss')\n",
    "plt.ylabel('CCE loss')\n",
    "plt.xlabel('epoch')\n",
    "plt.legend(['train', 'test'], loc='upper right')\n",
    "plt.show()\n",
    "# model.decoder.save_weights('../weights/20_CD4_epoch25.h5')"
   ]
  },
  {
   "cell_type": "code",
   "execution_count": 15,
   "metadata": {},
   "outputs": [
    {
     "name": "stdout",
     "output_type": "stream",
     "text": [
      "(10000, 1, 28, 28, 1)\n"
     ]
    }
   ],
   "source": [
    "import keras\n",
    "import numpy as np\n",
    "\n",
    "n_splits = 1\n",
    "io_shape = (28,28,1)\n",
    "size = int(io_shape[0] // (n_splits**(1/2)))\n",
    "latent_dim = 16\n",
    "\n",
    "model2 = MultiSplit(n_splits, latent_dim, io_shape)\n",
    "\n",
    "(x_train, y_train), (x_test, y_test) = keras.datasets.mnist.load_data()\n",
    "\n",
    "x_train = x_train.reshape(x_train.shape[0], 28, 28, 1)\n",
    "x_train = x_train.astype('float32') / 255.\n",
    "x_train_split = np.array([utils.split(x, size, size) for x in x_train], dtype='float32')\n",
    "y_train = keras.utils.to_categorical(y_train)\n",
    "\n",
    "x_test = x_test.reshape(x_test.shape[0], 28, 28, 1)\n",
    "x_test = x_test.astype('float32') / 255.\n",
    "x_test_split = np.array([utils.split(x, size, size) for x in x_test], dtype='float32')\n",
    "y_test = keras.utils.to_categorical(y_test)\n",
    "print(x_test_split.shape)"
   ]
  },
  {
   "cell_type": "code",
   "execution_count": 16,
   "metadata": {},
   "outputs": [
    {
     "name": "stdout",
     "output_type": "stream",
     "text": [
      "Epoch 1/10\n",
      "1875/1875 [==============================] - 5s 3ms/step - loss: 0.2803 - acc: 0.9199 - val_loss: 0.1971 - val_acc: 0.9412\n",
      "Epoch 2/10\n",
      "1875/1875 [==============================] - 5s 3ms/step - loss: 0.1370 - acc: 0.9590 - val_loss: 0.1396 - val_acc: 0.9573\n",
      "Epoch 3/10\n",
      "1875/1875 [==============================] - 5s 3ms/step - loss: 0.1091 - acc: 0.9676 - val_loss: 0.1333 - val_acc: 0.9607\n",
      "Epoch 4/10\n",
      "1875/1875 [==============================] - 5s 3ms/step - loss: 0.0927 - acc: 0.9711 - val_loss: 0.1182 - val_acc: 0.9662\n",
      "Epoch 5/10\n",
      "1875/1875 [==============================] - 5s 3ms/step - loss: 0.0809 - acc: 0.9750 - val_loss: 0.1109 - val_acc: 0.9675\n",
      "Epoch 6/10\n",
      "1875/1875 [==============================] - 5s 3ms/step - loss: 0.0730 - acc: 0.9769 - val_loss: 0.1180 - val_acc: 0.9685\n",
      "Epoch 7/10\n",
      "1875/1875 [==============================] - 5s 3ms/step - loss: 0.0647 - acc: 0.9788 - val_loss: 0.1096 - val_acc: 0.9684\n",
      "Epoch 8/10\n",
      "1875/1875 [==============================] - 5s 3ms/step - loss: 0.0595 - acc: 0.9811 - val_loss: 0.1181 - val_acc: 0.9684\n",
      "Epoch 9/10\n",
      "1875/1875 [==============================] - 5s 3ms/step - loss: 0.0545 - acc: 0.9821 - val_loss: 0.1158 - val_acc: 0.9679\n",
      "Epoch 10/10\n",
      "1875/1875 [==============================] - 6s 3ms/step - loss: 0.0498 - acc: 0.9835 - val_loss: 0.1124 - val_acc: 0.9694\n"
     ]
    },
    {
     "data": {
      "image/png": "[encoded data removed]",
      "text/plain": [
       "<Figure size 432x288 with 1 Axes>"
      ]
     },
     "metadata": {
      "needs_background": "light"
     },
     "output_type": "display_data"
    }
   ],
   "source": [
    "# model.encoder.load_weights('../weights/19_CE16_epoch25.h5')\n",
    "model2.encoder.load_weights('../weights/19_CE16_epoch25.h5')\n",
    "model2.decoder.load_weights('../weights/20_CD16_epoch25.h5')\n",
    "for layer in model2.encoder.layers:\n",
    "    layer.trainable = False\n",
    "for layer in model2.decoder.layers:\n",
    "    layer.trainable = False\n",
    "    \n",
    "model2.compile(loss='categorical_crossentropy', metrics=['acc'], optimizer='adam') # COMPILE AFTER WEIGHTS LOADED\n",
    "# model.compile(loss='mse', optimizer='adam') # COMPILE AFTER WEIGHTS LOADED\n",
    "\n",
    "# history = model.fit(x_train_split, x_train, validation_data=(x_test_split, x_test), epochs=25, batch_size=32)\n",
    "history = model2.fit(x_train_split, y_train, validation_data=(x_test_split, y_test), epochs=10, batch_size=32)\n",
    "\n",
    "import matplotlib.pyplot as plt\n",
    "plt.plot(history.history['loss'])\n",
    "plt.plot(history.history['val_loss'])\n",
    "plt.title('Keras CE16+classifier loss')\n",
    "plt.ylabel('CCE loss')\n",
    "plt.xlabel('epoch')\n",
    "plt.legend(['train', 'test'], loc='upper right')\n",
    "plt.show()\n",
    "# model.decoder.save_weights('../weights/20_CD4_epoch25.h5')"
   ]
  }
 ],
 "metadata": {
  "kernelspec": {
   "display_name": "Python 3",
   "language": "python",
   "name": "python3"
  },
  "language_info": {
   "codemirror_mode": {
    "name": "ipython",
    "version": 3
   },
   "file_extension": ".py",
   "mimetype": "text/x-python",
   "name": "python",
   "nbconvert_exporter": "python",
   "pygments_lexer": "ipython3",
   "version": "3.8.5"
  }
 },
 "nbformat": 4,
 "nbformat_minor": 4
}
