{
 "cells": [
  {
   "cell_type": "markdown",
   "metadata": {},
   "source": [
    "Make a difference plot for the mean of all test images on inference time between pretrained fully conv autoencoder (FCAE) and conv autoencoder with denses (CAE+D)"
   ]
  },
  {
   "cell_type": "code",
   "execution_count": 14,
   "metadata": {},
   "outputs": [],
   "source": [
    "import keras\n",
    "(_, _), (x_test, _) = keras.datasets.mnist.load_data()\n",
    "\n",
    "x_test = x_test.reshape(x_test.shape[0], 28, 28, 1)\n",
    "x_test = x_test.astype('float32') / 255.\n",
    "# x_test = x_test[:1000]"
   ]
  },
  {
   "cell_type": "code",
   "execution_count": 15,
   "metadata": {},
   "outputs": [],
   "source": [
    "fcae = keras.models.load_model('../models/51_1split.h5')\n",
    "caed = keras.models.load_model('../models/51_1split_dense.h5')"
   ]
  },
  {
   "cell_type": "code",
   "execution_count": 20,
   "metadata": {},
   "outputs": [
    {
     "data": {
      "image/png": "[encoded data removed]",
      "text/plain": [
       "<Figure size 432x288 with 2 Axes>"
      ]
     },
     "metadata": {
      "needs_background": "light"
     },
     "output_type": "display_data"
    }
   ],
   "source": [
    "import numpy as np\n",
    "import tensorflow as tf\n",
    "\n",
    "### GPU malloc for test tensor doesn't allow parallel computation\n",
    "# y_fcae = fcae(x_test)\n",
    "# y_caed = caed(x_test)\n",
    "\n",
    "# y_bar_fcae = tf.reduce_mean(y_fcae, axis=0)\n",
    "# y_bar_caed = tf.reduce_mean(y_caed, axis=0)\n",
    "\n",
    "# diff =  abs(y_bar_fcae - y_bar_caed)\n",
    "\n",
    "### .. So we do it by hand.\n",
    "diff = np.zeros((1,28,28,1))\n",
    "for x in x_test:\n",
    "    y1 = fcae(x.reshape(1,28,28,1))\n",
    "    y2 = caed(x.reshape(1,28,28,1))\n",
    "    diff += y1 - y2\n",
    "diff /= x_test.shape[0]\n",
    "\n",
    "import matplotlib.pyplot as plt\n",
    "\n",
    "plt.imshow(tf.reshape(diff, (28,28)))\n",
    "plt.colorbar()\n",
    "plt.savefig('../img/52_PLOTS/FCAE_CAED_diff.png',  bbox_inches='tight', transparent=True, pad_inches=0)"
   ]
  }
 ],
 "metadata": {
  "kernelspec": {
   "display_name": "Python 3",
   "language": "python",
   "name": "python3"
  },
  "language_info": {
   "codemirror_mode": {
    "name": "ipython",
    "version": 3
   },
   "file_extension": ".py",
   "mimetype": "text/x-python",
   "name": "python",
   "nbconvert_exporter": "python",
   "pygments_lexer": "ipython3",
   "version": "3.8.5"
  }
 },
 "nbformat": 4,
 "nbformat_minor": 4
}
