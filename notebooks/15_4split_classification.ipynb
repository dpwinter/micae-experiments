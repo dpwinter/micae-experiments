{
 "cells": [
  {
   "cell_type": "code",
   "execution_count": 1,
   "metadata": {},
   "outputs": [],
   "source": [
    "from keras.layers import Flatten, Conv2D, Conv2DTranspose, Dense, Input, Reshape, concatenate, Activation\n",
    "from keras import Sequential\n",
    "from keras.models import Model\n",
    "\n",
    "import tensorflow as tf\n",
    "import sys; sys.path.insert(0, '..')\n",
    "import utils\n",
    "\n",
    "import random\n",
    "random.seed(1)\n",
    "\n",
    "class FourSplit(Model):\n",
    "    def __init__(self, n_enc, latent_dim, io_shape):\n",
    "        super(FourSplit, self).__init__()\n",
    "        n_filters = [32, 64]\n",
    "#         n_enc_1d = n_enc**(1/2)\n",
    "#         enc_input_shape = (n_enc, int(io_shape[0]//n_enc_1d), int(io_shape[1]//n_enc_1d), io_shape[2])\n",
    "#         self.encoder = self._create_encoder(latent_dim//n_enc, enc_input_shape[1:], n_filters)\n",
    "        self.encoder = self._create_encoder(latent_dim, io_shape, n_filters)\n",
    "#         self.input_reshaper = utils.Reshaper(enc_input_shape, enc_input_shape[1:])\n",
    "#         self.latent_reshaper = utils.Reshaper([latent_dim//n_enc], [latent_dim])\n",
    "\n",
    "#         self.decoder = self._create_decoder(latent_dim, io_shape, n_filters)\n",
    "        self.classifier = self._create_classifier(latent_dim)\n",
    "        self.compile()\n",
    "\n",
    "    def encode(self, x):\n",
    "#         return self.encoder( self.input_reshaper(x) )\n",
    "        return self.encoder( x )\n",
    "    \n",
    "    def decode(self, z):\n",
    "#         return self.decoder( self.latent_reshaper(z) )\n",
    "        return self.decoder( z )\n",
    "    \n",
    "    def classify(self, z):\n",
    "#         return self.classifier( self.latent_reshaper(z))\n",
    "        return self.classifier( z )\n",
    "        \n",
    "    def _create_encoder(self, latent_dim, input_shape, n_filters):\n",
    "        return Sequential([\n",
    "            Input(shape=input_shape),\n",
    "            Conv2D(filters=n_filters[0], kernel_size=(3,3), strides=(2,2), activation='relu', padding='same'),\n",
    "            Conv2D(filters=n_filters[1], kernel_size=(3,3), strides=(2,2), activation='relu', padding='same'),\n",
    "#             Conv2D(filters=1, kernel_size=(1,1), strides=(1,1), activation='relu', padding='valid'),\n",
    "            Flatten(),\n",
    "            Dense(latent_dim)\n",
    "        ], name='encoder')\n",
    "\n",
    "    def _create_decoder(self, latent_dim, io_shape, n_filters):\n",
    "        return Sequential([\n",
    "            Input(shape=(latent_dim)),\n",
    "            Dense(io_shape[0]//4 * io_shape[2]//4 * n_filters[0]),  # factor 4 due to conv.\n",
    "            Reshape((io_shape[0]//4, io_shape[1]//4, n_filters[0])),\n",
    "            Conv2DTranspose(filters=n_filters[1], kernel_size=(3,3), strides=(2,2), activation='relu', padding='same'),\n",
    "            Conv2DTranspose(filters=n_filters[0], kernel_size=(3,3), strides=(2,2), activation='relu', padding='same'),\n",
    "#             Conv2DTranspose(filters=1, kernel_size=(3,3), padding='same'),\n",
    "            Activation('sigmoid', name='decoder_out')\n",
    "        ])\n",
    "    \n",
    "    def _create_classifier(self, latent_dim):\n",
    "        return Sequential([\n",
    "            Input(shape=(latent_dim)),\n",
    "            Dense(10, activation='softmax')\n",
    "        ])\n",
    "    \n",
    "    def reco_loss(self, x_in, x_truth):\n",
    "        z = self.encode(x_in)\n",
    "        x_pred = self.decode(z)\n",
    "        err = tf.reduce_mean(tf.square(tf.subtract(x_pred, x_truth)))\n",
    "        return err\n",
    "    \n",
    "#     def class_loss(self, x_in, y_truth):\n",
    "#         z = self.encode(x_in)\n",
    "#         y_pred = self.classify(z)\n",
    "#         err = categorical_crossentropy(y_truth, y_pred)\n",
    "# #         acc = tf.metrics.accuracy(labels=tf.argmax(y_truth,1), predictions=tf.argmax(y_pred,1))\n",
    "#         return err"
   ]
  },
  {
   "cell_type": "code",
   "execution_count": 2,
   "metadata": {},
   "outputs": [],
   "source": [
    "import tensorflow as tf\n",
    "\n",
    "@tf.function\n",
    "def train_step(model, x_in, y_truth, optimizer):\n",
    "    with tf.GradientTape() as tape:   # tf.Variables inside are tracked\n",
    "        loss = model.class_loss(x_in, y_truth)\n",
    "    grads = tape.gradient(loss, model.trainable_variables)\n",
    "    optimizer.apply_gradients(zip(grads, model.trainable_variables))\n",
    "    return loss"
   ]
  },
  {
   "cell_type": "code",
   "execution_count": 3,
   "metadata": {},
   "outputs": [
    {
     "name": "stdout",
     "output_type": "stream",
     "text": [
      "Epoch  1 || train loss: 7.95186 | test loss: 4.96002 | time: 5.2s\n",
      "Epoch  2 || train loss: 3.52827 | test loss: 2.54260 | time: 3.9s\n",
      "Epoch  3 || train loss: 2.04883 | test loss: 1.64419 | time: 3.9s\n",
      "Epoch  4 || train loss: 1.49470 | test loss: 1.29766 | time: 3.9s\n",
      "Epoch  5 || train loss: 1.25460 | test loss: 1.12862 | time: 4.0s\n",
      "Epoch  6 || train loss: 1.12322 | test loss: 1.02852 | time: 4.1s\n",
      "Epoch  7 || train loss: 1.03937 | test loss: 0.96195 | time: 3.9s\n",
      "Epoch  8 || train loss: 0.98039 | test loss: 0.91431 | time: 3.9s\n",
      "Epoch  9 || train loss: 0.93654 | test loss: 0.87839 | time: 3.8s\n",
      "Epoch 10 || train loss: 0.90266 | test loss: 0.85030 | time: 3.9s\n",
      "Epoch 11 || train loss: 0.87578 | test loss: 0.82814 | time: 3.9s\n",
      "Epoch 12 || train loss: 0.85420 | test loss: 0.81027 | time: 3.9s\n",
      "Epoch 13 || train loss: 0.83675 | test loss: 0.79597 | time: 3.9s\n",
      "Epoch 14 || train loss: 0.82225 | test loss: 0.78408 | time: 3.9s\n",
      "Epoch 15 || train loss: 0.81028 | test loss: 0.77429 | time: 3.8s\n",
      "Epoch 16 || train loss: 0.80019 | test loss: 0.76472 | time: 4.0s\n",
      "Epoch 17 || train loss: 0.79168 | test loss: 0.75790 | time: 3.8s\n",
      "Epoch 18 || train loss: 0.78424 | test loss: 0.75230 | time: 3.9s\n",
      "Epoch 19 || train loss: 0.77789 | test loss: 0.74608 | time: 3.8s\n",
      "Epoch 20 || train loss: 0.77235 | test loss: 0.74179 | time: 3.8s\n",
      "Epoch 21 || train loss: 0.76751 | test loss: 0.73774 | time: 3.8s\n",
      "Epoch 22 || train loss: 0.76300 | test loss: 0.73397 | time: 3.8s\n",
      "Epoch 23 || train loss: 0.75924 | test loss: 0.73032 | time: 3.8s\n",
      "Epoch 24 || train loss: 0.75582 | test loss: 0.72770 | time: 3.8s\n",
      "Epoch 25 || train loss: 0.75274 | test loss: 0.72481 | time: 3.8s\n",
      "Epoch 26 || train loss: 0.74976 | test loss: 0.72213 | time: 3.8s\n",
      "Epoch 27 || train loss: 0.74710 | test loss: 0.71962 | time: 3.9s\n",
      "Epoch 28 || train loss: 0.74482 | test loss: 0.71775 | time: 3.8s\n",
      "Epoch 29 || train loss: 0.74261 | test loss: 0.71583 | time: 3.8s\n",
      "Epoch 30 || train loss: 0.74040 | test loss: 0.71392 | time: 3.8s\n"
     ]
    }
   ],
   "source": [
    "import time\n",
    "from keras.optimizers import Adam\n",
    "from keras.metrics import Mean\n",
    "import numpy as np\n",
    "\n",
    "optimizer = Adam(1e-4)\n",
    "BATCH_SIZE = 32\n",
    "\n",
    "LATENT_DIM = 16\n",
    "N_ENC = 4\n",
    "IO_SHAPE = (28,28,1)\n",
    "\n",
    "train_data, test_data = utils.gen_data(N_ENC, BATCH_SIZE)\n",
    "model = FourSplit(N_ENC, LATENT_DIM, IO_SHAPE)\n",
    "model.encoder.load_weights('../weights/14_4split_encoder.h5')\n",
    "for layer in model.encoder.layers:\n",
    "    layer.trainable = False\n",
    "# print(model.encoder.summary())\n",
    "\n",
    "train_losses, test_losses = [], []\n",
    "for epoch in range(1, 31):\n",
    "# for epoch in range(1, 10):\n",
    "    start_time = time.time()\n",
    "    \n",
    "    # Train\n",
    "    train_loss = Mean()\n",
    "    for i, (x_in, x_truth, y_truth) in enumerate(train_data):\n",
    "        train_loss(train_step(model, x_in, y_truth, optimizer))\n",
    "    train_losses.append(train_loss.result())\n",
    "     \n",
    "    # Test\n",
    "    test_loss = Mean()\n",
    "    for i, (x_in, x_truth, y_truth) in enumerate(test_data):\n",
    "        test_loss(model.class_loss(x_in, y_truth))\n",
    "    test_losses.append(test_loss.result())\n",
    "    \n",
    "    end_time = time.time()\n",
    "    delta = round(end_time - start_time, 1)\n",
    "    print(\"Epoch {:2d} || train loss: {:.5f} | test loss: {:.5f} | time: {}s\".format(epoch, train_losses[epoch-1], test_losses[epoch-1], delta))"
   ]
  },
  {
   "cell_type": "code",
   "execution_count": 4,
   "metadata": {},
   "outputs": [
    {
     "data": {
      "image/png": "[encoded data removed]",
      "text/plain": [
       "<Figure size 432x288 with 1 Axes>"
      ]
     },
     "metadata": {
      "needs_background": "light"
     },
     "output_type": "display_data"
    }
   ],
   "source": [
    "import matplotlib.pyplot as plt\n",
    "\n",
    "plt.plot(train_losses)\n",
    "plt.plot(test_losses)\n",
    "plt.title('Categorical Cross-entropy loss')\n",
    "plt.ylabel('loss')\n",
    "plt.xlabel('epoch')\n",
    "plt.legend(['train', 'test'], loc='upper right')\n",
    "plt.show()"
   ]
  },
  {
   "cell_type": "code",
   "execution_count": 6,
   "metadata": {},
   "outputs": [
    {
     "data": {
      "image/png": "[encoded data removed]",
      "text/plain": [
       "<Figure size 1440x288 with 10 Axes>"
      ]
     },
     "metadata": {
      "needs_background": "light"
     },
     "output_type": "display_data"
    }
   ],
   "source": [
    "import matplotlib.pyplot as plt\n",
    "\n",
    "n_samples = 10\n",
    "plt.figure(figsize=(20,4))\n",
    "\n",
    "for i, (x_in, x_truth, _) in enumerate(test_data.take(1)):\n",
    "    y_pred = model.classify(model.encode(x_in))\n",
    "\n",
    "    for j in range(n_samples):\n",
    "        ax = plt.subplot(1, n_samples, j+1)\n",
    "        ax.set_title(\"%d: %.5f\" % (np.argmax(y_pred[j]), max(y_pred[j])))\n",
    "        plt.imshow(tf.reshape(x_truth[j], (28, 28)))"
   ]
  },
  {
   "cell_type": "markdown",
   "metadata": {},
   "source": [
    "# The classification results look much worse than the ones for the single CAE."
   ]
  },
  {
   "cell_type": "markdown",
   "metadata": {},
   "source": [
    "Construct CAE with new this architecture, save weights, train classifier and compare to above"
   ]
  },
  {
   "cell_type": "code",
   "execution_count": 2,
   "metadata": {},
   "outputs": [
    {
     "name": "stdout",
     "output_type": "stream",
     "text": [
      "(None, 16) (None, 1, 28, 28, 1)\n",
      "(None, 16) (None, 28, 28, 1)\n",
      "Epoch  1 || train loss: 0.04608 | test loss: 0.02236 | time: 11.1s\n",
      "Epoch  2 || train loss: 0.02020 | test loss: 0.01811 | time: 9.3s\n",
      "Epoch  3 || train loss: 0.01725 | test loss: 0.01601 | time: 9.3s\n",
      "Epoch  4 || train loss: 0.01563 | test loss: 0.01481 | time: 9.4s\n",
      "Epoch  5 || train loss: 0.01462 | test loss: 0.01405 | time: 9.4s\n",
      "Epoch  6 || train loss: 0.01392 | test loss: 0.01347 | time: 9.4s\n",
      "Epoch  7 || train loss: 0.01342 | test loss: 0.01299 | time: 9.2s\n",
      "Epoch  8 || train loss: 0.01302 | test loss: 0.01266 | time: 9.2s\n",
      "Epoch  9 || train loss: 0.01270 | test loss: 0.01237 | time: 9.3s\n",
      "Epoch 10 || train loss: 0.01243 | test loss: 0.01223 | time: 9.3s\n",
      "Epoch 11 || train loss: 0.01221 | test loss: 0.01196 | time: 9.4s\n",
      "Epoch 12 || train loss: 0.01200 | test loss: 0.01180 | time: 9.4s\n",
      "Epoch 13 || train loss: 0.01183 | test loss: 0.01164 | time: 9.4s\n",
      "Epoch 14 || train loss: 0.01167 | test loss: 0.01150 | time: 9.4s\n",
      "Epoch 15 || train loss: 0.01153 | test loss: 0.01137 | time: 9.4s\n",
      "Epoch 16 || train loss: 0.01139 | test loss: 0.01128 | time: 9.8s\n",
      "Epoch 17 || train loss: 0.01127 | test loss: 0.01116 | time: 10.5s\n",
      "Epoch 18 || train loss: 0.01117 | test loss: 0.01109 | time: 10.2s\n",
      "Epoch 19 || train loss: 0.01107 | test loss: 0.01109 | time: 10.0s\n",
      "Epoch 20 || train loss: 0.01097 | test loss: 0.01092 | time: 10.2s\n",
      "Epoch 21 || train loss: 0.01089 | test loss: 0.01085 | time: 10.5s\n",
      "Epoch 22 || train loss: 0.01080 | test loss: 0.01077 | time: 10.0s\n",
      "Epoch 23 || train loss: 0.01073 | test loss: 0.01072 | time: 9.9s\n",
      "Epoch 24 || train loss: 0.01066 | test loss: 0.01067 | time: 9.8s\n",
      "Epoch 25 || train loss: 0.01060 | test loss: 0.01060 | time: 9.7s\n",
      "Epoch 26 || train loss: 0.01053 | test loss: 0.01052 | time: 9.7s\n",
      "Epoch 27 || train loss: 0.01047 | test loss: 0.01047 | time: 9.7s\n",
      "Epoch 28 || train loss: 0.01042 | test loss: 0.01044 | time: 10.1s\n",
      "Epoch 29 || train loss: 0.01036 | test loss: 0.01038 | time: 10.2s\n",
      "Epoch 30 || train loss: 0.01032 | test loss: 0.01032 | time: 10.6s\n"
     ]
    }
   ],
   "source": [
    "import time\n",
    "from keras.optimizers import Adam\n",
    "from keras.metrics import Mean\n",
    "import numpy as np\n",
    "\n",
    "import tensorflow as tf\n",
    "\n",
    "@tf.function\n",
    "def train_step(model, x_in, x_truth, optimizer):\n",
    "    with tf.GradientTape() as tape:   # tf.Variables inside are tracked\n",
    "        loss = model.reco_loss(x_in, x_truth)\n",
    "    grads = tape.gradient(loss, model.trainable_variables)\n",
    "    optimizer.apply_gradients(zip(grads, model.trainable_variables))\n",
    "    return loss\n",
    "\n",
    "optimizer = Adam(1e-4)\n",
    "BATCH_SIZE = 32\n",
    "\n",
    "LATENT_DIM = 16\n",
    "N_ENC = 1\n",
    "IO_SHAPE = (28,28,1)\n",
    "\n",
    "train_data, test_data = utils.gen_data(N_ENC, BATCH_SIZE)\n",
    "model = FourSplit(N_ENC, LATENT_DIM, IO_SHAPE)\n",
    "# model.encoder.load_weights('../weights/14_4split_encoder.h5')\n",
    "# for layer in model.encoder.layers:\n",
    "#     layer.trainable = False\n",
    "# print(model.encoder.summary())\n",
    "\n",
    "train_losses, test_losses = [], []\n",
    "for epoch in range(1, 31):\n",
    "    start_time = time.time()\n",
    "    \n",
    "    # Train\n",
    "    train_loss = Mean()\n",
    "    for i, (x_in, x_truth, y_truth) in enumerate(train_data):\n",
    "        train_loss(train_step(model, x_in, x_truth, optimizer))\n",
    "    train_losses.append(train_loss.result())\n",
    "     \n",
    "    # Test\n",
    "    test_loss = Mean()\n",
    "    for i, (x_in, x_truth, y_truth) in enumerate(test_data):\n",
    "        test_loss(model.reco_loss(x_in, x_truth))\n",
    "    test_losses.append(test_loss.result())\n",
    "    \n",
    "    end_time = time.time()\n",
    "    delta = round(end_time - start_time, 1)\n",
    "    print(\"Epoch {:2d} || train loss: {:.5f} | test loss: {:.5f} | time: {}s\".format(epoch, train_losses[epoch-1], test_losses[epoch-1], delta))"
   ]
  },
  {
   "cell_type": "code",
   "execution_count": null,
   "metadata": {},
   "outputs": [],
   "source": [
    "model.encoder.save_weights('../weights/14_1split_encoder.h5')\n",
    "model.decoder.save_weights('../weights/14_1split_decoder.h5')\n",
    "\n",
    "import matplotlib.pyplot as plt\n",
    "\n",
    "# summarize history for loss\n",
    "plt.plot(train_losses)\n",
    "plt.plot(test_losses)\n",
    "plt.title('MSE loss')\n",
    "plt.ylabel('loss')\n",
    "plt.xlabel('epoch')\n",
    "plt.legend(['train', 'test'], loc='upper right')\n",
    "plt.show()"
   ]
  },
  {
   "cell_type": "markdown",
   "metadata": {},
   "source": [
    "# Train CAE on classifier and compare to 4-split with classifier."
   ]
  },
  {
   "cell_type": "code",
   "execution_count": 3,
   "metadata": {},
   "outputs": [
    {
     "name": "stdout",
     "output_type": "stream",
     "text": [
      "Epoch  1 || train loss: 1.39399 | time: 3.3s\n",
      "Epoch  2 || train loss: 0.53913 | time: 1.9s\n",
      "Epoch  3 || train loss: 0.37714 | time: 1.9s\n",
      "Epoch  4 || train loss: 0.31158 | time: 1.9s\n",
      "Epoch  5 || train loss: 0.27758 | time: 1.9s\n",
      "Epoch  6 || train loss: 0.25783 | time: 1.9s\n",
      "Epoch  7 || train loss: 0.24587 | time: 1.9s\n",
      "Epoch  8 || train loss: 0.23840 | time: 1.9s\n",
      "Epoch  9 || train loss: 0.23337 | time: 2.0s\n",
      "Epoch 10 || train loss: 0.22996 | time: 1.9s\n"
     ]
    }
   ],
   "source": [
    "import time\n",
    "from keras.optimizers import Adam\n",
    "from keras.metrics import Mean\n",
    "import numpy as np\n",
    "from keras.losses import CategoricalCrossentropy\n",
    "\n",
    "import tensorflow as tf\n",
    "\n",
    "loss_fn = CategoricalCrossentropy(from_logits=False)\n",
    "\n",
    "@tf.function\n",
    "def train_step(model, x_in, y_truth, optimizer):\n",
    "    with tf.GradientTape() as tape:   # tf.Variables inside are tracked\n",
    "#         loss = model.class_loss(x_in, y_truth)\n",
    "        z = model.encoder(x_in, training=False)\n",
    "        y_pred = model.classifier(z, training=True)\n",
    "        loss = loss_fn(y_truth, y_pred)\n",
    "    grads = tape.gradient(loss, model.trainable_variables)\n",
    "    optimizer.apply_gradients(zip(grads, model.trainable_variables))\n",
    "    return loss\n",
    "\n",
    "# optimizer = Adam(1e-4)\n",
    "optimizer = Adam()\n",
    "# BATCH_SIZE = 32\n",
    "BATCH_SIZE = 64\n",
    "\n",
    "\n",
    "LATENT_DIM = 16\n",
    "N_ENC = 1\n",
    "IO_SHAPE = (28,28,1)\n",
    "\n",
    "train_data, test_data = utils.gen_data(N_ENC, BATCH_SIZE)\n",
    "model = FourSplit(N_ENC, LATENT_DIM, IO_SHAPE)\n",
    "# model.encoder.load_weights('../weights/14_1split_encoder.h5')\n",
    "model.encoder.load_weights('../weights/CE16_epoch25_weights.h5')\n",
    "for layer in model.encoder.layers:\n",
    "    layer.trainable = False\n",
    "# print(model.encoder.summary())\n",
    "\n",
    "train_losses, test_losses = [], []\n",
    "# for epoch in range(1, 31):\n",
    "for epoch in range(1, 11):\n",
    "    start_time = time.time()\n",
    "    \n",
    "    # Train\n",
    "    train_loss = Mean()\n",
    "    for i, (x_in, x_truth, y_truth) in enumerate(train_data):\n",
    "        train_loss(train_step(model, x_truth, y_truth, optimizer))\n",
    "    train_losses.append(train_loss.result())\n",
    "     \n",
    "    # Test\n",
    "#     test_loss = Mean()\n",
    "#     for i, (x_in, x_truth, y_truth) in enumerate(test_data):\n",
    "#         test_loss(model.class_loss(x_truth, y_truth))\n",
    "#     test_losses.append(test_loss.result())\n",
    "    \n",
    "    end_time = time.time()\n",
    "    delta = round(end_time - start_time, 1)\n",
    "#     print(\"Epoch {:2d} || train loss: {:.5f} | test loss: {:.5f} | time: {}s\".format(epoch, train_losses[epoch-1], test_losses[epoch-1], delta))\n",
    "    print(\"Epoch {:2d} || train loss: {:.5f} | time: {}s\".format(epoch, train_losses[epoch-1], delta))"
   ]
  },
  {
   "cell_type": "code",
   "execution_count": 3,
   "metadata": {},
   "outputs": [
    {
     "data": {
      "image/png": "[encoded data removed]",
      "text/plain": [
       "<Figure size 432x288 with 1 Axes>"
      ]
     },
     "metadata": {
      "needs_background": "light"
     },
     "output_type": "display_data"
    }
   ],
   "source": [
    "import matplotlib.pyplot as plt\n",
    "\n",
    "plt.plot(train_losses)\n",
    "plt.plot(test_losses)\n",
    "plt.title('Categorical Cross-entropy loss')\n",
    "plt.ylabel('loss')\n",
    "plt.xlabel('epoch')\n",
    "plt.legend(['train', 'test'], loc='upper right')\n",
    "plt.show()"
   ]
  },
  {
   "cell_type": "code",
   "execution_count": 4,
   "metadata": {},
   "outputs": [
    {
     "data": {
      "image/png": "[encoded data removed]",
      "text/plain": [
       "<Figure size 1440x288 with 10 Axes>"
      ]
     },
     "metadata": {
      "needs_background": "light"
     },
     "output_type": "display_data"
    }
   ],
   "source": [
    "import matplotlib.pyplot as plt\n",
    "\n",
    "n_samples = 10\n",
    "plt.figure(figsize=(20,4))\n",
    "\n",
    "for i, (x_in, x_truth, _) in enumerate(test_data.take(1)):\n",
    "    y_pred = model.classify(model.encode(x_in))\n",
    "\n",
    "    for j in range(n_samples):\n",
    "        ax = plt.subplot(1, n_samples, j+1)\n",
    "        ax.set_title(\"%d: %.5f\" % (np.argmax(y_pred[j]), max(y_pred[j])))\n",
    "        plt.imshow(tf.reshape(x_truth[j], (28, 28)))"
   ]
  },
  {
   "cell_type": "code",
   "execution_count": 7,
   "metadata": {},
   "outputs": [
    {
     "name": "stdout",
     "output_type": "stream",
     "text": [
      "Model: \"encoder\"\n",
      "_________________________________________________________________\n",
      "Layer (type)                 Output Shape              Param #   \n",
      "=================================================================\n",
      "conv2d (Conv2D)              (None, 14, 14, 32)        320       \n",
      "_________________________________________________________________\n",
      "conv2d_1 (Conv2D)            (None, 7, 7, 64)          18496     \n",
      "_________________________________________________________________\n",
      "flatten (Flatten)            (None, 3136)              0         \n",
      "_________________________________________________________________\n",
      "dense (Dense)                (None, 16)                50192     \n",
      "=================================================================\n",
      "Total params: 69,008\n",
      "Trainable params: 0\n",
      "Non-trainable params: 69,008\n",
      "_________________________________________________________________\n",
      "None\n",
      "Model: \"sequential_1\"\n",
      "_________________________________________________________________\n",
      "Layer (type)                 Output Shape              Param #   \n",
      "=================================================================\n",
      "dense_2 (Dense)              (None, 10)                170       \n",
      "=================================================================\n",
      "Total params: 170\n",
      "Trainable params: 170\n",
      "Non-trainable params: 0\n",
      "_________________________________________________________________\n",
      "None\n"
     ]
    }
   ],
   "source": [
    "print(model.encoder.summary())\n",
    "print(model.classifier.summary())"
   ]
  }
 ],
 "metadata": {
  "kernelspec": {
   "display_name": "Python 3",
   "language": "python",
   "name": "python3"
  },
  "language_info": {
   "codemirror_mode": {
    "name": "ipython",
    "version": 3
   },
   "file_extension": ".py",
   "mimetype": "text/x-python",
   "name": "python",
   "nbconvert_exporter": "python",
   "pygments_lexer": "ipython3",
   "version": "3.8.5"
  }
 },
 "nbformat": 4,
 "nbformat_minor": 4
}
