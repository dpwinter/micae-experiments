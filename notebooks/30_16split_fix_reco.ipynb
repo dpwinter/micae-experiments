{
 "cells": [
  {
   "cell_type": "markdown",
   "metadata": {},
   "source": [
    "The problem with the failed reconstruction seems to be in the Dense layers in encoder/decoder, immediately before/after the latent space. There are 2 ways to fix this:\n",
    "1. Sigmoid activation in latent space + Reducing amount of neurons in Dense at beginning of Decoder.\n",
    "2. Heavy weight regularization in latent space + lower weight initialization + Reducing amount of neurons in Dene ate beginning of Decoder."
   ]
  },
  {
   "cell_type": "code",
   "execution_count": 2,
   "metadata": {},
   "outputs": [],
   "source": [
    "import sys; sys.path.insert(0, '..')\n",
    "import utils\n",
    "import keras\n",
    "import numpy as np\n",
    "\n",
    "def embed_and_translate(data, nrows, ncols):\n",
    "    ndata = np.zeros((len(data), nrows, ncols, 1), dtype='float32')\n",
    "    translations = np.empty((len(data), 2), dtype='float32')\n",
    "    width, height = data.shape[1], data.shape[2]\n",
    "    for i in range(len(data)):\n",
    "        x = np.random.randint(ncols-width)\n",
    "        y = np.random.randint(nrows-height)\n",
    "        ndata[i][x:x+width, y:y+height] = data[i] # rows, cols = height, width\n",
    "        translations[i][0] = x+(width//2)\n",
    "        translations[i][1] = y+(height//2)\n",
    "    return ndata, translations\n",
    "            \n",
    "n_splits = 16\n",
    "io_shape = (56,56,1)\n",
    "size = int(io_shape[0] // (n_splits**(1/2)))\n",
    "latent_dim = 16 * 4 # since we have 4x4-splits we need 4 times the latent space for a fair comparison.\n",
    "\n",
    "(x_train, y_train), (x_test, y_test) = keras.datasets.mnist.load_data()\n",
    "\n",
    "x_train = x_train.reshape(x_train.shape[0], 28, 28, 1)\n",
    "x_train = x_train.astype('float32') / 255.\n",
    "x_train_augmented, y_train = embed_and_translate(x_train, 56, 56)\n",
    "x_train_split = np.array([utils.split(x, size, size) for x in x_train_augmented], dtype='float32')\n",
    "\n",
    "x_test = x_test.reshape(x_test.shape[0], 28, 28, 1)\n",
    "x_test = x_test.astype('float32') / 255.\n",
    "x_test_augmented, y_test = embed_and_translate(x_test, 56, 56)\n",
    "x_test_split = np.array([utils.split(x, size, size) for x in x_test_augmented], dtype='float32')"
   ]
  },
  {
   "cell_type": "markdown",
   "metadata": {},
   "source": [
    "1. Sigmoid activation + Reducing amount of Dense neurons in Decoder beginning."
   ]
  },
  {
   "cell_type": "code",
   "execution_count": 3,
   "metadata": {},
   "outputs": [],
   "source": [
    "from keras.layers import Flatten, Conv2D, Conv2DTranspose, Dense, Input, Reshape, concatenate, Activation, Dropout\n",
    "from keras import Sequential\n",
    "from keras.models import Model\n",
    "\n",
    "import tensorflow as tf\n",
    "import keras\n",
    "import sys; sys.path.insert(0, '..')\n",
    "import utils\n",
    "\n",
    "class MultiSplit(Model):\n",
    "    def __init__(self, n_splits, latent_dim, io_shape):\n",
    "        super(MultiSplit, self).__init__()\n",
    "        n_filters = [32, 64]\n",
    "        size = int( io_shape[0] // (n_splits**(1/2)) )  # W = H\n",
    "        self.encoder = self._create_encoder(latent_dim//n_splits, (size, size,1), n_filters)\n",
    "        self.input_reshaper = utils.Reshaper((n_splits, size, size, 1), (size, size,1))\n",
    "        self.latent_reshaper = utils.Reshaper([latent_dim//n_splits], [latent_dim])\n",
    "        self.decoder = self._create_decoder(latent_dim, io_shape, n_filters)\n",
    "        \n",
    "    def train_step(self, data):\n",
    "        x, y = data\n",
    "        with tf.GradientTape() as tape:\n",
    "            y_pred = self(x)\n",
    "            loss = self.compiled_loss(y, y_pred)\n",
    "        grads = tape.gradient(loss, self.trainable_variables)\n",
    "        self.optimizer.apply_gradients(zip(grads, self.trainable_variables))\n",
    "        self.compiled_metrics.update_state(y, y_pred)\n",
    "        return {m.name: m.result() for m in self.metrics}\n",
    "    \n",
    "    def test_step(self, data):\n",
    "        x, y = data\n",
    "        y_pred = self(x, training=False)\n",
    "        self.compiled_loss(y, y_pred)\n",
    "        self.compiled_metrics.update_state(y, y_pred)\n",
    "        return {m.name: m.result() for m in self.metrics}\n",
    "    \n",
    "    def call(self, x, training=True):\n",
    "        z = self.encode(x, training=training)\n",
    "        y_pred = self.decode(z ,training=training)\n",
    "        return y_pred\n",
    "        \n",
    "    def encode(self, x, training=True):\n",
    "        return self.encoder( self.input_reshaper(x) , training)\n",
    "    \n",
    "    def decode(self, z, training=True):\n",
    "        return self.decoder( self.latent_reshaper(z) , training)\n",
    "    \n",
    "    def _create_encoder(self, latent_dim, input_shape, n_filters):\n",
    "        return Sequential([\n",
    "            Input(shape=input_shape),\n",
    "            Conv2D(filters=n_filters[0], kernel_size=(3,3), strides=(2,2), activation='relu', padding='same'),\n",
    "            Conv2D(filters=n_filters[1], kernel_size=(3,3), strides=(2,2), activation='relu', padding='same'),\n",
    "            Flatten(),\n",
    "            Dense(units=latent_dim, activation='sigmoid')  #! Sigmoid activation\n",
    "        ], name='encoder')\n",
    "\n",
    "    def _create_decoder(self, latent_dim, io_shape, n_filters):\n",
    "        return Sequential([\n",
    "            Input(shape=(latent_dim)),\n",
    "            Dense(io_shape[0]//4 * io_shape[1]//4 * 8),  #! Reduce amount of neurons by 4.\n",
    "            Reshape((io_shape[0]//4, io_shape[1]//4, 8)),\n",
    "            Conv2DTranspose(filters=n_filters[1], kernel_size=(3,3), strides=(2,2), activation='relu', padding='same'),\n",
    "            Conv2DTranspose(filters=n_filters[0], kernel_size=(3,3), strides=(2,2), activation='relu', padding='same'),\n",
    "            Conv2DTranspose(filters=1, kernel_size=(3,3), padding='same'),\n",
    "            Activation('sigmoid', name='decoder_out')\n",
    "        ])"
   ]
  },
  {
   "cell_type": "code",
   "execution_count": 5,
   "metadata": {},
   "outputs": [],
   "source": [
    "model = MultiSplit(n_splits, latent_dim, io_shape)\n",
    "model.compile(loss='mse', optimizer='adam') # COMPILE AFTER WEIGHTS LOADED\n",
    "# history = model.fit(x_train_split, x_train_augmented, validation_data=(x_test_split, x_test_augmented), epochs=5, batch_size=32)"
   ]
  },
  {
   "cell_type": "code",
   "execution_count": 7,
   "metadata": {},
   "outputs": [],
   "source": [
    "# model.encoder.save_weights('../weights/30_CE4x16_epoch50.h5')\n",
    "model.encoder.load_weights('../weights/34_CAE4x16_encoder_epoch100.h5')\n",
    "model.decoder.load_weights('../weights/34_CAE4x16_decoder_head_epoch100.h5')"
   ]
  },
  {
   "cell_type": "code",
   "execution_count": 13,
   "metadata": {},
   "outputs": [
    {
     "data": {
      "image/png": "[encoded data removed]",
      "text/plain": [
       "<Figure size 432x288 with 1 Axes>"
      ]
     },
     "metadata": {
      "needs_background": "light"
     },
     "output_type": "display_data"
    }
   ],
   "source": [
    "import matplotlib.pyplot as plt\n",
    "import tensorflow as tf\n",
    "\n",
    "\n",
    "x = x_test_split[0].reshape(1,16,14,14,1)\n",
    "z = model.encode(x, training=False)\n",
    "y = model.decode(z, training=False)\n",
    "\n",
    "a = np.empty((8,8))\n",
    "for j in range(16):\n",
    "    r = int(j/4)\n",
    "    c = j%4\n",
    "    a[r*2:(r+1)*2, c*2:(c+1)*2] = tf.reshape(z[j], (2,2))\n",
    "axs.append(plt.subplot(3, n, n+i+1))\n",
    "plt.axis('off')\n",
    "plt.imshow(a, vmin=0, vmax=1)\n",
    "\n",
    "plt.axis('off')\n",
    "plt.savefig('../img/latent.png')\n",
    "# n = 10\n",
    "# plt.figure(figsize=(19, 6))\n",
    "# axs = []\n",
    "# for i in range(n):\n",
    "    \n",
    "#     # predict\n",
    "#     x = x_test_split[i].reshape(1,16,14,14,1)\n",
    "#     z = model.encode(x, training=False)\n",
    "#     y = model.decode(z, training=False)\n",
    "    \n",
    "#     axs.append(plt.subplot(3, n, i+1))\n",
    "#     plt.axis('off')\n",
    "#     plt.imshow(x_test_augmented[i].reshape(56,56), vmin=0, vmax=1)\n",
    "    \n",
    "#     a = np.empty((8,8))\n",
    "#     for j in range(16):\n",
    "#         r = int(j/4)\n",
    "#         c = j%4\n",
    "#         a[r*2:(r+1)*2, c*2:(c+1)*2] = tf.reshape(z[j], (2,2))\n",
    "#     axs.append(plt.subplot(3, n, n+i+1))\n",
    "#     plt.axis('off')\n",
    "#     plt.imshow(a, vmin=0, vmax=1)\n",
    "    \n",
    "#     axs.append(plt.subplot(3, n, 2*n+i+1))\n",
    "#     plt.axis('off')\n",
    "#     plt.imshow(tf.reshape(y, (56,56)), vmin=0, vmax=1)\n",
    "# plt.colorbar(ax=axs)"
   ]
  },
  {
   "cell_type": "markdown",
   "metadata": {},
   "source": [
    "2. Regularizing latent space layer by weight decay (L1: weights can become 0, L2: heavy panelization) + lower weight initialization + Reduce amount of neurons in first Dense layer of decoder."
   ]
  },
  {
   "cell_type": "code",
   "execution_count": 46,
   "metadata": {},
   "outputs": [],
   "source": [
    "from keras.layers import Flatten, Conv2D, Conv2DTranspose, Dense, Input, Reshape, concatenate, Activation, Dropout\n",
    "from keras import Sequential\n",
    "from keras.models import Model\n",
    "\n",
    "import tensorflow as tf\n",
    "import keras\n",
    "import sys; sys.path.insert(0, '..')\n",
    "import utils\n",
    "\n",
    "class MultiSplit(Model):\n",
    "    def __init__(self, n_splits, latent_dim, io_shape):\n",
    "        super(MultiSplit, self).__init__()\n",
    "        n_filters = [32, 64]\n",
    "        size = int( io_shape[0] // (n_splits**(1/2)) )  # W = H\n",
    "        self.encoder = self._create_encoder(latent_dim//n_splits, (size, size,1), n_filters)\n",
    "        self.input_reshaper = utils.Reshaper((n_splits, size, size, 1), (size, size,1))\n",
    "        self.latent_reshaper = utils.Reshaper([latent_dim//n_splits], [latent_dim])\n",
    "        self.decoder = self._create_decoder(latent_dim, io_shape, n_filters)\n",
    "        \n",
    "    def train_step(self, data):\n",
    "        x, y = data\n",
    "        with tf.GradientTape() as tape:\n",
    "            y_pred = self(x)\n",
    "            loss = self.compiled_loss(y, y_pred)\n",
    "        grads = tape.gradient(loss, self.trainable_variables)\n",
    "        self.optimizer.apply_gradients(zip(grads, self.trainable_variables))\n",
    "        self.compiled_metrics.update_state(y, y_pred)\n",
    "        return {m.name: m.result() for m in self.metrics}\n",
    "    \n",
    "    def test_step(self, data):\n",
    "        x, y = data\n",
    "        y_pred = self(x, training=False)\n",
    "        self.compiled_loss(y, y_pred)\n",
    "        self.compiled_metrics.update_state(y, y_pred)\n",
    "        return {m.name: m.result() for m in self.metrics}\n",
    "    \n",
    "    def call(self, x, training=True):\n",
    "        z = self.encode(x, training=training)\n",
    "        y_pred = self.decode(z ,training=training)\n",
    "        return y_pred\n",
    "        \n",
    "    def encode(self, x, training=True):\n",
    "        return self.encoder( self.input_reshaper(x) , training)\n",
    "    \n",
    "    def decode(self, z, training=True):\n",
    "        return self.decoder( self.latent_reshaper(z) , training)\n",
    "    \n",
    "    def _create_encoder(self, latent_dim, input_shape, n_filters):\n",
    "        return Sequential([\n",
    "            Input(shape=input_shape),\n",
    "            Conv2D(filters=n_filters[0], kernel_size=(3,3), strides=(2,2), activation='relu', padding='same', kernel_initializer=keras.initializers.RandomNormal(stddev=0.001)),\n",
    "            Conv2D(filters=n_filters[1], kernel_size=(3,3), strides=(2,2), activation='relu', padding='same', kernel_initializer=keras.initializers.RandomNormal(stddev=0.001)),\n",
    "            Flatten(),\n",
    "            Dense(units=latent_dim, kernel_regularizer=keras.regularizers.l1_l2(l1=0.1, l2=0.1), kernel_initializer=keras.initializers.RandomNormal(stddev=0.001))  #! Heavy weight regularization\n",
    "        ], name='encoder')\n",
    "\n",
    "    def _create_decoder(self, latent_dim, io_shape, n_filters):\n",
    "        return Sequential([\n",
    "            Input(shape=(latent_dim)),\n",
    "            Dense(io_shape[0]//4 * io_shape[1]//4 * 4, kernel_initializer=keras.initializers.RandomNormal(stddev=0.001)),  #! Reduction of neurons by factor 8.\n",
    "            Reshape((io_shape[0]//4, io_shape[1]//4, 4)),\n",
    "            Conv2DTranspose(filters=n_filters[1], kernel_size=(3,3), strides=(2,2), activation='relu', padding='same', kernel_initializer=keras.initializers.RandomNormal(stddev=0.001)),\n",
    "            Conv2DTranspose(filters=n_filters[0], kernel_size=(3,3), strides=(2,2), activation='relu', padding='same', kernel_initializer=keras.initializers.RandomNormal(stddev=0.001)),\n",
    "            Conv2DTranspose(filters=1, kernel_size=(3,3), padding='same', kernel_initializer=keras.initializers.RandomNormal(stddev=0.001)),\n",
    "            Activation('sigmoid', name='decoder_out')\n",
    "        ])"
   ]
  },
  {
   "cell_type": "code",
   "execution_count": 47,
   "metadata": {},
   "outputs": [
    {
     "name": "stdout",
     "output_type": "stream",
     "text": [
      "Epoch 1/5\n",
      "1875/1875 [==============================] - 22s 12ms/step - loss: 0.0176 - val_loss: 0.0088\n",
      "Epoch 2/5\n",
      "1875/1875 [==============================] - 22s 12ms/step - loss: 0.0083 - val_loss: 0.0079\n",
      "Epoch 3/5\n",
      "1875/1875 [==============================] - 23s 12ms/step - loss: 0.0077 - val_loss: 0.0075\n",
      "Epoch 4/5\n",
      "1875/1875 [==============================] - 22s 12ms/step - loss: 0.0073 - val_loss: 0.0071\n",
      "Epoch 5/5\n",
      "1875/1875 [==============================] - 22s 12ms/step - loss: 0.0070 - val_loss: 0.0069\n"
     ]
    }
   ],
   "source": [
    "model = MultiSplit(n_splits, latent_dim, io_shape)\n",
    "model.compile(loss='mse', optimizer='adam') # COMPILE AFTER WEIGHTS LOADED\n",
    "history = model.fit(x_train_split, x_train_augmented, validation_data=(x_test_split, x_test_augmented), epochs=5, batch_size=32)"
   ]
  },
  {
   "cell_type": "code",
   "execution_count": 48,
   "metadata": {},
   "outputs": [
    {
     "data": {
      "text/plain": [
       "<matplotlib.colorbar.Colorbar at 0x7f823dbc1ca0>"
      ]
     },
     "execution_count": 48,
     "metadata": {},
     "output_type": "execute_result"
    },
    {
     "data": {
      "image/png": "[encoded data removed]",
      "text/plain": [
       "<Figure size 1368x432 with 31 Axes>"
      ]
     },
     "metadata": {
      "needs_background": "light"
     },
     "output_type": "display_data"
    }
   ],
   "source": [
    "import matplotlib.pyplot as plt\n",
    "import tensorflow as tf\n",
    "\n",
    "n = 10\n",
    "plt.figure(figsize=(19, 6))\n",
    "axs = []\n",
    "for i in range(n):\n",
    "    \n",
    "    # predict\n",
    "    x = x_test_split[i].reshape(1,16,14,14,1)\n",
    "    z = model.encode(x, training=False)\n",
    "    y = model.decode(z, training=False)\n",
    "    \n",
    "    axs.append(plt.subplot(3, n, i+1))\n",
    "    plt.axis('off')\n",
    "    plt.imshow(x_test_augmented[i].reshape(56,56), vmin=0, vmax=1)\n",
    "    \n",
    "    a = np.empty((8,8))\n",
    "    for j in range(16):\n",
    "        r = int(j/4)\n",
    "        c = j%4\n",
    "        a[r*2:(r+1)*2, c*2:(c+1)*2] = tf.reshape(z[j], (2,2))\n",
    "    axs.append(plt.subplot(3, n, n+i+1))\n",
    "    plt.axis('off')\n",
    "    plt.imshow(a, vmin=0, vmax=1)\n",
    "    \n",
    "    axs.append(plt.subplot(3, n, 2*n+i+1))\n",
    "    plt.axis('off')\n",
    "    plt.imshow(tf.reshape(y, (56,56)), vmin=0, vmax=1)\n",
    "plt.colorbar(ax=axs)"
   ]
  }
 ],
 "metadata": {
  "kernelspec": {
   "display_name": "Python 3",
   "language": "python",
   "name": "python3"
  },
  "language_info": {
   "codemirror_mode": {
    "name": "ipython",
    "version": 3
   },
   "file_extension": ".py",
   "mimetype": "text/x-python",
   "name": "python",
   "nbconvert_exporter": "python",
   "pygments_lexer": "ipython3",
   "version": "3.8.5"
  }
 },
 "nbformat": 4,
 "nbformat_minor": 4
}
