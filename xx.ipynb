{
 "cells": [
  {
   "cell_type": "code",
   "execution_count": 2,
   "metadata": {},
   "outputs": [],
   "source": [
    "import tensorflow as tf\n",
    "import matplotlib.pyplot as plt\n",
    "import numpy as np\n",
    "from skimage.transform import resize\n",
    "import math"
   ]
  },
  {
   "cell_type": "code",
   "execution_count": 34,
   "metadata": {},
   "outputs": [],
   "source": [
    "class BatchGenerator2(tf.keras.utils.Sequence):\n",
    "    # Generate (x1,x2,x3,x4), x_tot for mini batches (x1-4 are quarters of x_tot)\n",
    "\n",
    "    def __init__(self, x_set, batch_size):\n",
    "        self.batch_size = batch_size\n",
    "        self.xs = x_set\n",
    "        self.on_epoch_end()\n",
    "\n",
    "    def __len__(self):\n",
    "        return math.ceil(len(self.xs)/self.batch_size)\n",
    "\n",
    "    def split(self, arr, nrows, ncols):\n",
    "        r, h = arr.shape[:-1]\n",
    "        return (arr.reshape(h//nrows, nrows, -1, ncols).swapaxes(1, 2).reshape(-1, nrows, ncols, 1)) \n",
    "    \n",
    "    def embed(self, batch):\n",
    "        imgs = np.zeros((self.batch_size, 64, 64, 1))\n",
    "        locs = np.zeros((self.batch_size, 2))\n",
    "        for k in range(len(imgs)):\n",
    "            i, j = np.random.randint(0,3), np.random.randint(0,3)\n",
    "            x, y = (i*16, 32+i*16), (j*16, 32+j*16)\n",
    "            loc  = [(i+1)*16, (j+1)*16]\n",
    "            np.append(locs, loc)\n",
    "            imgs[k][x[0]:x[1], y[0]:y[1]] = batch[k]\n",
    "        return imgs, locs\n",
    "\n",
    "    def __getitem__(self, idx):\n",
    "        batch = self.xs[idx*self.batch_size : (idx+1)*self.batch_size]\n",
    "        imgs, locs = self.embed(batch)\n",
    "        \n",
    "        x1s, x2s, x3s, x4s = [], [], [], []\n",
    "        for x in imgs:\n",
    "            #x1,x2,x3,x4 = self.split(x, 14, 14)\n",
    "            x1,x2,x3,x4 = self.split(x, 32, 32) \n",
    "            x1s.append(x1)\n",
    "            x2s.append(x2)\n",
    "            x3s.append(x3)\n",
    "            x4s.append(x4)\n",
    "        xs = [np.array(x1s), np.array(x2s), np.array(x3s), np.array(x4s)]\n",
    "        return xs, [imgs,locs]\n",
    "\n",
    "    def on_epoch_end(self):\n",
    "        self.xs = np.random.permutation(self.xs)"
   ]
  },
  {
   "cell_type": "code",
   "execution_count": 35,
   "metadata": {},
   "outputs": [],
   "source": [
    "(x_train, _), (x_test, _) = tf.keras.datasets.mnist.load_data()\n",
    "x_train = x_train.reshape(x_train.shape[0], 28, 28, 1)\n",
    "x_test = x_test.reshape(x_test.shape[0], 28, 28, 1)\n",
    "\n",
    "x_train = x_train.astype('float32') / 255.\n",
    "x_test = x_test.astype('float32') / 255.\n",
    "\n",
    "x_train = resize(x_train, (x_train.shape[0], 32, 32, 1))\n",
    "x_test = resize(x_test, (x_test.shape[0], 32, 32, 1))\n",
    "\n",
    "batch_size = 32\n",
    "train_gen = BatchGenerator2(x_train, batch_size)\n",
    "test_gen = BatchGenerator2(x_test, batch_size)"
   ]
  },
  {
   "cell_type": "code",
   "execution_count": 36,
   "metadata": {},
   "outputs": [
    {
     "name": "stdout",
     "output_type": "stream",
     "text": [
      "(32, 2)\n"
     ]
    }
   ],
   "source": [
    "for (xs, ys), i in zip(train_gen, range(1)):\n",
    "    print(ys[1].shape)"
   ]
  }
 ],
 "metadata": {
  "kernelspec": {
   "display_name": "Python 3",
   "language": "python",
   "name": "python3"
  },
  "language_info": {
   "codemirror_mode": {
    "name": "ipython",
    "version": 3
   },
   "file_extension": ".py",
   "mimetype": "text/x-python",
   "name": "python",
   "nbconvert_exporter": "python",
   "pygments_lexer": "ipython3",
   "version": "3.8.5"
  }
 },
 "nbformat": 4,
 "nbformat_minor": 4
}
