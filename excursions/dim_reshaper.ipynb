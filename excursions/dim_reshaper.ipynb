{
 "cells": [
  {
   "cell_type": "code",
   "execution_count": 2,
   "metadata": {},
   "outputs": [],
   "source": [
    "from keras.layers import Input, Conv2D, Lambda\n",
    "import keras.backend as K\n",
    "from keras.models import Model\n",
    "\n",
    "class Reshaper(Model):\n",
    "    def __init__(self, input_shape, output_shape):\n",
    "        model_in  = Input(shape=input_shape)\n",
    "        model_out = K.concatenate((K.variable([-1], dtype='int32'), output_shape))   # arbitrary sampling dim\n",
    "        shaper = Lambda(lambda x: K.reshape(x, model_out))(model_in)       # apply input to output along (in/out) sampling dim\n",
    "        super(Reshaper, self).__init__(inputs=model_in, outputs=shaper)"
   ]
  },
  {
   "cell_type": "code",
   "execution_count": 5,
   "metadata": {},
   "outputs": [
    {
     "name": "stdout",
     "output_type": "stream",
     "text": [
      "[[[0.77162557 0.98728293 0.3656988 ]\n",
      "  [0.56296166 0.3290901  0.63234192]\n",
      "  [0.7830633  0.81268121 0.94139804]]\n",
      "\n",
      " [[0.78032326 0.17470952 0.40526321]\n",
      "  [0.27953277 0.05149125 0.56782961]\n",
      "  [0.80558307 0.13235624 0.68043991]]]\n",
      "\n",
      "tf.Tensor(\n",
      "[[0.7716256  0.98728293 0.36569878]\n",
      " [0.56296164 0.3290901  0.6323419 ]\n",
      " [0.7830633  0.8126812  0.941398  ]\n",
      " [0.78032327 0.17470953 0.40526322]\n",
      " [0.27953276 0.05149125 0.5678296 ]\n",
      " [0.80558306 0.13235624 0.6804399 ]], shape=(6, 3), dtype=float32)\n"
     ]
    }
   ],
   "source": [
    "import numpy as np\n",
    "\n",
    "### Convert 2x3x3 tensor to 6x3 tensor by keeping the order ###\n",
    "\n",
    "r =np.random.rand(2,3,3)\n",
    "print(r)\n",
    "reducer = Reshaper([3,3], [3])\n",
    "a = reducer(r)\n",
    "print()\n",
    "print(a)"
   ]
  }
 ],
 "metadata": {
  "kernelspec": {
   "display_name": "Python 3",
   "language": "python",
   "name": "python3"
  },
  "language_info": {
   "codemirror_mode": {
    "name": "ipython",
    "version": 3
   },
   "file_extension": ".py",
   "mimetype": "text/x-python",
   "name": "python",
   "nbconvert_exporter": "python",
   "pygments_lexer": "ipython3",
   "version": "3.8.5"
  }
 },
 "nbformat": 4,
 "nbformat_minor": 4
}
