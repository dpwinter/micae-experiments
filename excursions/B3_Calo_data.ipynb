{
 "cells": [
  {
   "cell_type": "code",
   "execution_count": 1,
   "metadata": {},
   "outputs": [],
   "source": [
    "import pickle\n",
    "\n",
    "data = pickle.load(open('/home/don/Desktop/electrons_config1_1_to_500GeV_4Tesla.pickle', 'rb'))"
   ]
  },
  {
   "cell_type": "code",
   "execution_count": 3,
   "metadata": {},
   "outputs": [
    {
     "name": "stdout",
     "output_type": "stream",
     "text": [
      "(1000, 30, 19, 3, 3, 4, 4)\n",
      "[[ 1.1000000e+01  3.1319540e+02  6.3900591e-04 -6.8322616e-04\n",
      "  -1.0465975e+01  1.1190237e+01]\n",
      " [ 1.1000000e+01  3.3460062e+02  1.3464493e-03 -6.7509228e-04\n",
      "  -2.6080494e+01  1.3076426e+01]\n",
      " [ 1.1000000e+01  1.1272136e+02  3.1010923e-03 -4.1274866e-04\n",
      "  -1.8677830e+01  2.4859827e+00]\n",
      " ...\n",
      " [ 1.1000000e+01  1.1916441e+02  1.9292883e-03 -2.9151912e-03\n",
      "  -1.2644467e+01  1.9106016e+01]\n",
      " [ 1.1000000e+01  3.0605188e+02  1.2663823e-03 -1.4682056e-03\n",
      "  -2.4076078e+01  2.7913080e+01]\n",
      " [ 1.1000000e+01  1.6695699e+02  1.7947395e-03  2.2582130e-03\n",
      "  -1.7095289e+01 -2.1509972e+01]]\n",
      "(800,)\n",
      "(200,)\n"
     ]
    }
   ],
   "source": [
    "print(data['digi'].shape)\n",
    "print(data['meta']) # pdgID, energy, p_x, p_y, p_z, phi\n",
    "\n",
    "y = data['meta'][:800, 1] # all energies.\n",
    "y_test = data['meta'][800:, 1]\n",
    "# print(y)\n",
    "print(y.shape)\n",
    "print(y_test.shape)"
   ]
  },
  {
   "cell_type": "code",
   "execution_count": 30,
   "metadata": {},
   "outputs": [
    {
     "data": {
      "text/plain": [
       "Text(0.5, 0, 'Energy [GeV]')"
      ]
     },
     "execution_count": 30,
     "metadata": {},
     "output_type": "execute_result"
    },
    {
     "data": {
      "image/png": "[encoded data removed]",
      "text/plain": [
       "<Figure size 432x288 with 1 Axes>"
      ]
     },
     "metadata": {
      "needs_background": "light"
     },
     "output_type": "display_data"
    }
   ],
   "source": [
    "import matplotlib.pyplot as plt\n",
    "import numpy as np\n",
    "\n",
    "noise = np.random.normal(0, 1., 200)\n",
    "y_pred = y_test + noise\n",
    "residuals = y_test-y_pred\n",
    "plt.bar(y_test, residuals)\n",
    "plt.ylabel('Residuals [GeV]')\n",
    "plt.xlabel('Energy [GeV]')"
   ]
  },
  {
   "cell_type": "code",
   "execution_count": 1,
   "metadata": {},
   "outputs": [],
   "source": [
    "import keras\n",
    "import keras.backend as K\n",
    "import tensorflow as tf\n",
    "\n",
    "class Reshaper(keras.models.Model):\n",
    "    def __init__(self, input_shape, output_shape):\n",
    "        model_in  = keras.layers.Input(shape=input_shape)\n",
    "        model_out = K.concatenate((K.variable([-1], dtype='int32'), output_shape))\n",
    "        shaper = keras.layers.Lambda(lambda x: K.reshape(x, model_out))(model_in)\n",
    "        super(Reshaper, self).__init__(inputs=model_in, outputs=shaper)"
   ]
  },
  {
   "cell_type": "code",
   "execution_count": 5,
   "metadata": {},
   "outputs": [],
   "source": [
    "import numpy as np\n",
    "\n",
    "a = np.random.rand(1,30,19,3,3,4,4,1)"
   ]
  },
  {
   "cell_type": "code",
   "execution_count": 7,
   "metadata": {},
   "outputs": [],
   "source": [
    "latent_dims = [8,8,8]\n",
    "r1 = Reshaper([30,19,3,3,4,4,1], [3*4,4,1])\n",
    "r2 = Reshaper(latent_dims[0], [3*19*latent_dims[1]])\n",
    "r2 = Reshaper(latent_dims[1], [30*latent_dims[2]])"
   ]
  },
  {
   "cell_type": "code",
   "execution_count": 9,
   "metadata": {},
   "outputs": [
    {
     "name": "stdout",
     "output_type": "stream",
     "text": [
      "(1710, 12, 4, 1)\n"
     ]
    }
   ],
   "source": []
  }
 ],
 "metadata": {
  "kernelspec": {
   "display_name": "Python 3",
   "language": "python",
   "name": "python3"
  },
  "language_info": {
   "codemirror_mode": {
    "name": "ipython",
    "version": 3
   },
   "file_extension": ".py",
   "mimetype": "text/x-python",
   "name": "python",
   "nbconvert_exporter": "python",
   "pygments_lexer": "ipython3",
   "version": "3.8.5"
  }
 },
 "nbformat": 4,
 "nbformat_minor": 4
}
