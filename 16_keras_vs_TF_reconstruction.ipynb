{
 "cells": [
  {
   "cell_type": "markdown",
   "metadata": {},
   "source": [
    "# Compare the reconstruction training losses of keras CAE to tf model"
   ]
  },
  {
   "cell_type": "markdown",
   "metadata": {},
   "source": [
    "0. Common"
   ]
  },
  {
   "cell_type": "code",
   "execution_count": 4,
   "metadata": {},
   "outputs": [],
   "source": [
    "import keras\n",
    "\n",
    "(x_train, y_train), (x_test, y_test) = keras.datasets.mnist.load_data()\n",
    "\n",
    "x_train = x_train.reshape(x_train.shape[0], 28, 28, 1)\n",
    "x_test = x_test.reshape(x_test.shape[0], 28, 28, 1)\n",
    "\n",
    "x_train = x_train.astype('float32') / 255.\n",
    "x_test = x_test.astype('float32') / 255.\n",
    "\n",
    "encoder = keras.Sequential([\n",
    "    keras.layers.Input(shape=(28,28,1)),\n",
    "    keras.layers.Conv2D(filters=32, kernel_size=(3,3), strides=(2,2), activation='relu', padding='same'),\n",
    "    keras.layers.Conv2D(filters=64, kernel_size=(3,3), strides=(2,2), activation='relu', padding='same'),\n",
    "    keras.layers.Flatten(),\n",
    "    keras.layers.Dense(units=16)\n",
    "])\n",
    "\n",
    "decoder = keras.Sequential([\n",
    "    keras.layers.Input(shape=(16)),\n",
    "    keras.layers.Dense(7*7*64),\n",
    "    keras.layers.Reshape((7, 7, 64)),\n",
    "    keras.layers.Conv2DTranspose(filters=64, kernel_size=(3,3), strides=(2,2), activation='relu', padding='same'),\n",
    "    keras.layers.Conv2DTranspose(filters=32, kernel_size=(3,3), strides=(2,2), activation='relu', padding='same'),\n",
    "    keras.layers.Conv2DTranspose(filters=1, kernel_size=(3,3), padding='same'),\n",
    "    keras.layers.Activation('sigmoid')\n",
    "])"
   ]
  },
  {
   "cell_type": "markdown",
   "metadata": {},
   "source": [
    "1. Keras model"
   ]
  },
  {
   "cell_type": "code",
   "execution_count": 6,
   "metadata": {},
   "outputs": [
    {
     "name": "stdout",
     "output_type": "stream",
     "text": [
      "Epoch 1/25\n",
      "1875/1875 [==============================] - 9s 5ms/step - loss: 0.0223 - val_loss: 0.0108\n",
      "Epoch 2/25\n",
      "1875/1875 [==============================] - 9s 5ms/step - loss: 0.0099 - val_loss: 0.0090\n",
      "Epoch 3/25\n",
      "1875/1875 [==============================] - 11s 6ms/step - loss: 0.0088 - val_loss: 0.0085\n",
      "Epoch 4/25\n",
      "1875/1875 [==============================] - 9s 5ms/step - loss: 0.0082 - val_loss: 0.0080\n",
      "Epoch 5/25\n",
      "1875/1875 [==============================] - 11s 6ms/step - loss: 0.0078 - val_loss: 0.0078\n",
      "Epoch 6/25\n",
      "1875/1875 [==============================] - 10s 5ms/step - loss: 0.0075 - val_loss: 0.0074\n",
      "Epoch 7/25\n",
      "1875/1875 [==============================] - 10s 5ms/step - loss: 0.0073 - val_loss: 0.0073\n",
      "Epoch 8/25\n",
      "1875/1875 [==============================] - 9s 5ms/step - loss: 0.0071 - val_loss: 0.0072\n",
      "Epoch 9/25\n",
      "1875/1875 [==============================] - 9s 5ms/step - loss: 0.0070 - val_loss: 0.0070\n",
      "Epoch 10/25\n",
      "1875/1875 [==============================] - 9s 5ms/step - loss: 0.0068 - val_loss: 0.0071\n",
      "Epoch 11/25\n",
      "1875/1875 [==============================] - 11s 6ms/step - loss: 0.0067 - val_loss: 0.0070\n",
      "Epoch 12/25\n",
      "1875/1875 [==============================] - 9s 5ms/step - loss: 0.0066 - val_loss: 0.0069\n",
      "Epoch 13/25\n",
      "1875/1875 [==============================] - 10s 5ms/step - loss: 0.0066 - val_loss: 0.0068\n",
      "Epoch 14/25\n",
      "1875/1875 [==============================] - 11s 6ms/step - loss: 0.0065 - val_loss: 0.0067\n",
      "Epoch 15/25\n",
      "1875/1875 [==============================] - 10s 5ms/step - loss: 0.0064 - val_loss: 0.0067\n",
      "Epoch 16/25\n",
      "1875/1875 [==============================] - 9s 5ms/step - loss: 0.0064 - val_loss: 0.0067\n",
      "Epoch 17/25\n",
      "1875/1875 [==============================] - 9s 5ms/step - loss: 0.0063 - val_loss: 0.0067\n",
      "Epoch 18/25\n",
      "1875/1875 [==============================] - 9s 5ms/step - loss: 0.0063 - val_loss: 0.0066\n",
      "Epoch 19/25\n",
      "1875/1875 [==============================] - 10s 5ms/step - loss: 0.0062 - val_loss: 0.0066\n",
      "Epoch 20/25\n",
      "1875/1875 [==============================] - 9s 5ms/step - loss: 0.0062 - val_loss: 0.0065\n",
      "Epoch 21/25\n",
      "1875/1875 [==============================] - 9s 5ms/step - loss: 0.0062 - val_loss: 0.0065\n",
      "Epoch 22/25\n",
      "1875/1875 [==============================] - 9s 5ms/step - loss: 0.0061 - val_loss: 0.0066\n",
      "Epoch 23/25\n",
      "1875/1875 [==============================] - 10s 5ms/step - loss: 0.0061 - val_loss: 0.0065\n",
      "Epoch 24/25\n",
      "1875/1875 [==============================] - 9s 5ms/step - loss: 0.0061 - val_loss: 0.0065\n",
      "Epoch 25/25\n",
      "1875/1875 [==============================] - 9s 5ms/step - loss: 0.0060 - val_loss: 0.0064\n"
     ]
    },
    {
     "data": {
      "image/png": "[encoded data removed]",
      "text/plain": [
       "<Figure size 432x288 with 1 Axes>"
      ]
     },
     "metadata": {
      "needs_background": "light"
     },
     "output_type": "display_data"
    }
   ],
   "source": [
    "import keras\n",
    "\n",
    "model = keras.models.Model(encoder.inputs, decoder(encoder(encoder.inputs)))\n",
    "model.compile(loss='mse', optimizer='adam')\n",
    "history = model.fit(x_train, x_train, validation_data=(x_test, x_test), batch_size=32, verbose=True, epochs=25)\n",
    "\n",
    "import matplotlib.pyplot as plt\n",
    "plt.plot(history.history['loss'])\n",
    "plt.plot(history.history['val_loss'])\n",
    "plt.title('Keras CAE16 loss')\n",
    "plt.ylabel('MSE loss')\n",
    "plt.xlabel('epoch')\n",
    "plt.legend(['train', 'test'], loc='upper left')\n",
    "plt.show()"
   ]
  },
  {
   "cell_type": "markdown",
   "metadata": {},
   "source": [
    "2. TF model"
   ]
  },
  {
   "cell_type": "code",
   "execution_count": 5,
   "metadata": {},
   "outputs": [
    {
     "name": "stdout",
     "output_type": "stream",
     "text": [
      "Epoch  1 || train loss: 0.02209 | test loss: 0.01064 | time: 12.5s\n",
      "Epoch  2 || train loss: 0.00976 | test loss: 0.00903 | time: 12.1s\n",
      "Epoch  3 || train loss: 0.00868 | test loss: 0.00849 | time: 11.3s\n",
      "Epoch  4 || train loss: 0.00812 | test loss: 0.00805 | time: 11.1s\n",
      "Epoch  5 || train loss: 0.00776 | test loss: 0.00787 | time: 12.5s\n",
      "Epoch  6 || train loss: 0.00750 | test loss: 0.00754 | time: 13.4s\n",
      "Epoch  7 || train loss: 0.00729 | test loss: 0.00733 | time: 13.0s\n",
      "Epoch  8 || train loss: 0.00712 | test loss: 0.00722 | time: 13.0s\n",
      "Epoch  9 || train loss: 0.00699 | test loss: 0.00717 | time: 11.3s\n",
      "Epoch 10 || train loss: 0.00687 | test loss: 0.00711 | time: 11.3s\n",
      "Epoch 11 || train loss: 0.00677 | test loss: 0.00702 | time: 13.2s\n",
      "Epoch 12 || train loss: 0.00669 | test loss: 0.00693 | time: 11.9s\n",
      "Epoch 13 || train loss: 0.00660 | test loss: 0.00691 | time: 11.6s\n",
      "Epoch 14 || train loss: 0.00654 | test loss: 0.00690 | time: 9.9s\n",
      "Epoch 15 || train loss: 0.00648 | test loss: 0.00681 | time: 10.5s\n",
      "Epoch 16 || train loss: 0.00642 | test loss: 0.00676 | time: 8.5s\n",
      "Epoch 17 || train loss: 0.00637 | test loss: 0.00674 | time: 8.2s\n",
      "Epoch 18 || train loss: 0.00633 | test loss: 0.00690 | time: 8.2s\n",
      "Epoch 19 || train loss: 0.00629 | test loss: 0.00668 | time: 8.2s\n",
      "Epoch 20 || train loss: 0.00625 | test loss: 0.00666 | time: 8.2s\n",
      "Epoch 21 || train loss: 0.00622 | test loss: 0.00668 | time: 8.2s\n",
      "Epoch 22 || train loss: 0.00618 | test loss: 0.00662 | time: 8.2s\n",
      "Epoch 23 || train loss: 0.00615 | test loss: 0.00667 | time: 8.2s\n",
      "Epoch 24 || train loss: 0.00612 | test loss: 0.00661 | time: 8.2s\n",
      "Epoch 25 || train loss: 0.00609 | test loss: 0.00660 | time: 8.2s\n"
     ]
    },
    {
     "data": {
      "image/png": "[encoded data removed]",
      "text/plain": [
       "<Figure size 432x288 with 1 Axes>"
      ]
     },
     "metadata": {
      "needs_background": "light"
     },
     "output_type": "display_data"
    }
   ],
   "source": [
    "import keras\n",
    "import tensorflow as tf\n",
    "\n",
    "class tf_model(keras.models.Model):\n",
    "    def __init__(self):\n",
    "        super(tf_model, self).__init__()\n",
    "        self.encoder = encoder\n",
    "        self.decoder = decoder\n",
    "        self.compile()\n",
    "    def encode(self, x):\n",
    "        return self.encoder(x)\n",
    "    def decode(self, z):\n",
    "        return self.decoder(z)\n",
    "    def mse_loss(self, x):\n",
    "        z = self.encode(x)\n",
    "        x_pred = self.decode(z)\n",
    "        err = tf.reduce_mean(tf.square(tf.subtract(x_pred, x)))\n",
    "        return err\n",
    "    \n",
    "@tf.function\n",
    "def train_step(model, optimizer, x):\n",
    "    with tf.GradientTape() as tape:\n",
    "        loss = model.mse_loss(x)\n",
    "    grads = tape.gradient(loss, model.trainable_variables)\n",
    "    optimizer.apply_gradients(zip(grads, model.trainable_variables))\n",
    "    return loss\n",
    "\n",
    "x_train_tf = tf.data.Dataset.from_tensor_slices(x_train).shuffle(buffer_size=1024).batch(32)\n",
    "x_test_tf = tf.data.Dataset.from_tensor_slices(x_test).shuffle(buffer_size=1024).batch(32)\n",
    "optimizer = keras.optimizers.Adam()\n",
    "model = tf_model()\n",
    "\n",
    "import time\n",
    "train_losses, test_losses = [], []\n",
    "for epoch in range(1, 26):\n",
    "    start_time = time.time()\n",
    "    \n",
    "    # Train\n",
    "    train_loss = keras.metrics.Mean()\n",
    "    for i, (x) in enumerate(x_train_tf):\n",
    "        train_loss(train_step(model, optimizer, x))\n",
    "    train_losses.append(train_loss.result())\n",
    "     \n",
    "    # Test\n",
    "    test_loss = keras.metrics.Mean()\n",
    "    for i, (x) in enumerate(x_test_tf):\n",
    "        test_loss(model.mse_loss(x))\n",
    "    test_losses.append(test_loss.result())\n",
    "    \n",
    "    end_time = time.time()\n",
    "    delta = round(end_time - start_time, 1)\n",
    "    print(\"Epoch {:2d} || train loss: {:.5f} | test loss: {:.5f} | time: {}s\".format(epoch, train_losses[epoch-1], test_losses[epoch-1], delta))\n",
    "\n",
    "import matplotlib.pyplot as plt\n",
    "plt.plot(train_losses)\n",
    "plt.plot(test_losses)\n",
    "plt.title('TF CAE16 loss')\n",
    "plt.ylabel('loss')\n",
    "plt.xlabel('epoch')\n",
    "plt.legend(['train', 'test'], loc='upper right')\n",
    "plt.show()"
   ]
  },
  {
   "cell_type": "code",
   "execution_count": 6,
   "metadata": {},
   "outputs": [],
   "source": [
    "model.encoder.save_weights('../weights/16_CE16_epoch25.h5')"
   ]
  }
 ],
 "metadata": {
  "kernelspec": {
   "display_name": "Python 3",
   "language": "python",
   "name": "python3"
  },
  "language_info": {
   "codemirror_mode": {
    "name": "ipython",
    "version": 3
   },
   "file_extension": ".py",
   "mimetype": "text/x-python",
   "name": "python",
   "nbconvert_exporter": "python",
   "pygments_lexer": "ipython3",
   "version": "3.8.5"
  }
 },
 "nbformat": 4,
 "nbformat_minor": 4
}
