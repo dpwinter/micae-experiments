{
 "cells": [
  {
   "cell_type": "markdown",
   "metadata": {},
   "source": [
    "Compare performance of CAE with 16x32b floats vs. 32x16b floats vs. 8x64b in latent space."
   ]
  },
  {
   "cell_type": "code",
   "execution_count": 1,
   "metadata": {},
   "outputs": [],
   "source": [
    "import keras\n",
    "(x_train, y_train), (x_test, y_test) = keras.datasets.mnist.load_data()\n",
    "\n",
    "x_train = x_train.reshape(x_train.shape[0], 28, 28, 1)\n",
    "x_train = x_train.astype('float32') / 255.\n",
    "\n",
    "x_test = x_test.reshape(x_test.shape[0], 28, 28, 1)\n",
    "x_test = x_test.astype('float32') / 255."
   ]
  },
  {
   "cell_type": "markdown",
   "metadata": {},
   "source": [
    "1. 16x32b"
   ]
  },
  {
   "cell_type": "code",
   "execution_count": 28,
   "metadata": {},
   "outputs": [
    {
     "name": "stdout",
     "output_type": "stream",
     "text": [
      "float32\n",
      "float32\n"
     ]
    }
   ],
   "source": [
    "from keras.models import Model\n",
    "from keras.layers import Flatten, Conv2D, Conv2DTranspose, Dense, Input, Reshape, concatenate, Activation\n",
    "from keras.utils import plot_model\n",
    "\n",
    "# encoder\n",
    "enc_input = Input(shape=(28,28,1), name='enc_input')\n",
    "x  = Conv2D(filters=32, kernel_size=(3,3), strides=(2,2), activation='relu', padding='same', name='conv1')(enc_input)\n",
    "x  = Conv2D(filters=64, kernel_size=(3,3), strides=(2,2), activation='relu', padding='same', name='conv2')(x)\n",
    "x = Flatten(name='flatten')(x)\n",
    "latent = Dense(units=16, activation='sigmoid', name='latent')(x)\n",
    "\n",
    "# decoder\n",
    "dec_input = Input(shape=(16,), name='dec_input')\n",
    "x = Dense(units=7*7*8, activation='relu', name='dense')(dec_input)\n",
    "x = Reshape(target_shape=(7,7,8), name='reshape')(x)\n",
    "x = Conv2DTranspose(filters=64, kernel_size=3, strides=2, activation='relu', padding='same', name='deconv1')(x)\n",
    "x = Conv2DTranspose(filters=32, kernel_size=3, strides=2, activation='relu', padding='same', name='deconv2')(x)\n",
    "dec_output = Conv2DTranspose(filters=1, kernel_size=3, padding='same', name='pt_conv')(x)\n",
    "\n",
    "encoder = Model(enc_input, latent, name=\"Encoder\")\n",
    "decoder = Model(dec_input, dec_output, name=\"Decoder\")\n",
    "model = Model(encoder.input, decoder(encoder.output))\n",
    "\n",
    "model.compile(loss='mse', optimizer='adam')\n",
    "# print(model.summary())\n",
    "print(model.layers[3].dtype)\n",
    "print(model.layers[4].dtype)"
   ]
  },
  {
   "cell_type": "code",
   "execution_count": 3,
   "metadata": {
    "collapsed": true,
    "jupyter": {
     "outputs_hidden": true
    }
   },
   "outputs": [
    {
     "name": "stdout",
     "output_type": "stream",
     "text": [
      "Epoch 1/25\n",
      "1875/1875 [==============================] - 8s 4ms/step - loss: 0.0235 - val_loss: 0.0165\n",
      "Epoch 2/25\n",
      "1875/1875 [==============================] - 8s 4ms/step - loss: 0.0153 - val_loss: 0.0139\n",
      "Epoch 3/25\n",
      "1875/1875 [==============================] - 8s 4ms/step - loss: 0.0136 - val_loss: 0.0127\n",
      "Epoch 4/25\n",
      "1875/1875 [==============================] - 8s 4ms/step - loss: 0.0127 - val_loss: 0.0119\n",
      "Epoch 5/25\n",
      "1875/1875 [==============================] - 8s 4ms/step - loss: 0.0120 - val_loss: 0.0115\n",
      "Epoch 6/25\n",
      "1875/1875 [==============================] - 8s 4ms/step - loss: 0.0115 - val_loss: 0.0112\n",
      "Epoch 7/25\n",
      "1875/1875 [==============================] - 8s 4ms/step - loss: 0.0112 - val_loss: 0.0107\n",
      "Epoch 8/25\n",
      "1875/1875 [==============================] - 9s 5ms/step - loss: 0.0108 - val_loss: 0.0105\n",
      "Epoch 9/25\n",
      "1875/1875 [==============================] - 8s 5ms/step - loss: 0.0106 - val_loss: 0.0104\n",
      "Epoch 10/25\n",
      "1875/1875 [==============================] - 8s 4ms/step - loss: 0.0104 - val_loss: 0.0104\n",
      "Epoch 11/25\n",
      "1875/1875 [==============================] - 8s 4ms/step - loss: 0.0102 - val_loss: 0.0100\n",
      "Epoch 12/25\n",
      "1875/1875 [==============================] - 8s 5ms/step - loss: 0.0100 - val_loss: 0.0099\n",
      "Epoch 13/25\n",
      "1875/1875 [==============================] - 8s 4ms/step - loss: 0.0099 - val_loss: 0.0099\n",
      "Epoch 14/25\n",
      "1875/1875 [==============================] - 9s 5ms/step - loss: 0.0098 - val_loss: 0.0097\n",
      "Epoch 15/25\n",
      "1875/1875 [==============================] - 8s 4ms/step - loss: 0.0097 - val_loss: 0.0095\n",
      "Epoch 16/25\n",
      "1875/1875 [==============================] - 8s 4ms/step - loss: 0.0096 - val_loss: 0.0095\n",
      "Epoch 17/25\n",
      "1875/1875 [==============================] - 8s 4ms/step - loss: 0.0095 - val_loss: 0.0093\n",
      "Epoch 18/25\n",
      "1875/1875 [==============================] - 8s 4ms/step - loss: 0.0094 - val_loss: 0.0092\n",
      "Epoch 19/25\n",
      "1875/1875 [==============================] - 8s 4ms/step - loss: 0.0093 - val_loss: 0.0092\n",
      "Epoch 20/25\n",
      "1875/1875 [==============================] - 8s 4ms/step - loss: 0.0093 - val_loss: 0.0092\n",
      "Epoch 21/25\n",
      "1875/1875 [==============================] - 8s 4ms/step - loss: 0.0092 - val_loss: 0.0091\n",
      "Epoch 22/25\n",
      "1875/1875 [==============================] - 8s 4ms/step - loss: 0.0091 - val_loss: 0.0091\n",
      "Epoch 23/25\n",
      "1875/1875 [==============================] - 8s 4ms/step - loss: 0.0091 - val_loss: 0.0089\n",
      "Epoch 24/25\n",
      "1875/1875 [==============================] - 8s 4ms/step - loss: 0.0090 - val_loss: 0.0089\n",
      "Epoch 25/25\n",
      "1875/1875 [==============================] - 8s 4ms/step - loss: 0.0090 - val_loss: 0.0089\n"
     ]
    },
    {
     "data": {
      "image/png": "[encoded data removed]",
      "text/plain": [
       "<Figure size 432x288 with 1 Axes>"
      ]
     },
     "metadata": {
      "needs_background": "light"
     },
     "output_type": "display_data"
    }
   ],
   "source": [
    "history = model.fit(x_train, x_train, validation_data=(x_test, x_test), epochs=25, batch_size=32)\n",
    "\n",
    "import matplotlib.pyplot as plt\n",
    "\n",
    "plt.plot(history.history['loss'])\n",
    "plt.plot(history.history['val_loss'])\n",
    "plt.title('No-Split training')\n",
    "plt.ylabel('MSE loss')\n",
    "plt.xlabel('epoch')\n",
    "plt.legend(['train', 'test'], loc='upper right')\n",
    "plt.grid(b=True, which='major', color='#666666', linestyle='-')"
   ]
  },
  {
   "cell_type": "markdown",
   "metadata": {},
   "source": [
    "2. 32x16b"
   ]
  },
  {
   "cell_type": "code",
   "execution_count": 4,
   "metadata": {},
   "outputs": [
    {
     "name": "stdout",
     "output_type": "stream",
     "text": [
      "float32\n",
      "float16\n"
     ]
    }
   ],
   "source": [
    "from keras.models import Model\n",
    "from keras.layers import Flatten, Conv2D, Conv2DTranspose, Dense, Input, Reshape, concatenate, Activation\n",
    "from keras.utils import plot_model\n",
    "\n",
    "# encoder\n",
    "enc_input = Input(shape=(28,28,1), name='enc_input')\n",
    "x  = Conv2D(filters=32, kernel_size=(3,3), strides=(2,2), activation='relu', padding='same', name='conv1')(enc_input)\n",
    "x  = Conv2D(filters=64, kernel_size=(3,3), strides=(2,2), activation='relu', padding='same', name='conv2')(x)\n",
    "x = Flatten(name='flatten')(x)\n",
    "latent = Dense(units=32, activation='sigmoid', name='latent', dtype='float16')(x)\n",
    "\n",
    "# decoder\n",
    "dec_input = Input(shape=(32,), name='dec_input')\n",
    "x = Dense(units=7*7*8, activation='relu', name='dense')(dec_input)\n",
    "x = Reshape(target_shape=(7,7,8), name='reshape')(x)\n",
    "x = Conv2DTranspose(filters=64, kernel_size=3, strides=2, activation='relu', padding='same', name='deconv1')(x)\n",
    "x = Conv2DTranspose(filters=32, kernel_size=3, strides=2, activation='relu', padding='same', name='deconv2')(x)\n",
    "dec_output = Conv2DTranspose(filters=1, kernel_size=3, padding='same', name='pt_conv')(x)\n",
    "\n",
    "encoder = Model(enc_input, latent, name=\"Encoder\")\n",
    "decoder = Model(dec_input, dec_output, name=\"Decoder\")\n",
    "model = Model(encoder.input, decoder(encoder.output))\n",
    "model.compile(loss='mse', optimizer='adam')\n",
    "\n",
    "# print(model.summary())\n",
    "print(model.layers[3].dtype)\n",
    "print(model.layers[4].dtype)"
   ]
  },
  {
   "cell_type": "code",
   "execution_count": 5,
   "metadata": {},
   "outputs": [
    {
     "name": "stdout",
     "output_type": "stream",
     "text": [
      "Epoch 1/25\n",
      "1875/1875 [==============================] - 9s 5ms/step - loss: 0.0320 - val_loss: 0.0268\n",
      "Epoch 2/25\n",
      "1875/1875 [==============================] - 8s 4ms/step - loss: 0.0264 - val_loss: 0.0272\n",
      "Epoch 3/25\n",
      "1875/1875 [==============================] - 8s 4ms/step - loss: 0.0273 - val_loss: 0.0288\n",
      "Epoch 4/25\n",
      "1875/1875 [==============================] - 8s 4ms/step - loss: 0.0368 - val_loss: 0.0448\n",
      "Epoch 5/25\n",
      "1875/1875 [==============================] - 8s 4ms/step - loss: 0.0541 - val_loss: 0.0632\n",
      "Epoch 6/25\n",
      "1875/1875 [==============================] - 8s 4ms/step - loss: 0.0651 - val_loss: 0.0585\n",
      "Epoch 7/25\n",
      "1875/1875 [==============================] - 8s 4ms/step - loss: 0.0601 - val_loss: 0.0677\n",
      "Epoch 8/25\n",
      "1875/1875 [==============================] - 8s 4ms/step - loss: 0.0674 - val_loss: 0.0676\n",
      "Epoch 9/25\n",
      "1875/1875 [==============================] - 8s 4ms/step - loss: 0.0673 - val_loss: 0.0675\n",
      "Epoch 10/25\n",
      "1875/1875 [==============================] - 8s 4ms/step - loss: 0.0598 - val_loss: 0.0534\n",
      "Epoch 11/25\n",
      "1875/1875 [==============================] - 8s 4ms/step - loss: 0.0518 - val_loss: 0.0504\n",
      "Epoch 12/25\n",
      "1875/1875 [==============================] - 8s 4ms/step - loss: 0.0499 - val_loss: 0.0491\n",
      "Epoch 13/25\n",
      "1875/1875 [==============================] - 8s 4ms/step - loss: 0.0489 - val_loss: 0.0481\n",
      "Epoch 14/25\n",
      "1875/1875 [==============================] - 8s 4ms/step - loss: 0.0480 - val_loss: 0.0464\n",
      "Epoch 15/25\n",
      "1875/1875 [==============================] - 8s 4ms/step - loss: 0.0454 - val_loss: 0.0443\n",
      "Epoch 16/25\n",
      "1875/1875 [==============================] - 8s 4ms/step - loss: 0.0443 - val_loss: 0.0438\n",
      "Epoch 17/25\n",
      "1875/1875 [==============================] - 8s 4ms/step - loss: 0.0435 - val_loss: 0.0428\n",
      "Epoch 18/25\n",
      "1875/1875 [==============================] - 8s 5ms/step - loss: 0.0427 - val_loss: 0.0419\n",
      "Epoch 19/25\n",
      "1875/1875 [==============================] - 8s 4ms/step - loss: 0.0420 - val_loss: 0.0413\n",
      "Epoch 20/25\n",
      "1875/1875 [==============================] - 8s 4ms/step - loss: 0.0413 - val_loss: 0.0406\n",
      "Epoch 21/25\n",
      "1875/1875 [==============================] - 8s 4ms/step - loss: 0.0407 - val_loss: 0.0406\n",
      "Epoch 22/25\n",
      "1875/1875 [==============================] - 8s 4ms/step - loss: 0.0405 - val_loss: 0.0400\n",
      "Epoch 23/25\n",
      "1875/1875 [==============================] - 8s 4ms/step - loss: 0.0401 - val_loss: 0.0401\n",
      "Epoch 24/25\n",
      "1875/1875 [==============================] - 9s 5ms/step - loss: 0.0399 - val_loss: 0.0396\n",
      "Epoch 25/25\n",
      "1875/1875 [==============================] - 8s 4ms/step - loss: 0.0397 - val_loss: 0.0397\n"
     ]
    },
    {
     "data": {
      "image/png": "[encoded data removed]",
      "text/plain": [
       "<Figure size 432x288 with 1 Axes>"
      ]
     },
     "metadata": {
      "needs_background": "light"
     },
     "output_type": "display_data"
    }
   ],
   "source": [
    "history = model.fit(x_train, x_train, validation_data=(x_test, x_test), epochs=25, batch_size=32)\n",
    "\n",
    "import matplotlib.pyplot as plt\n",
    "\n",
    "plt.plot(history.history['loss'])\n",
    "plt.plot(history.history['val_loss'])\n",
    "plt.title('No-Split training')\n",
    "plt.ylabel('MSE loss')\n",
    "# plt.ylim((0.005, 0.02))\n",
    "plt.xlabel('epoch')\n",
    "# plt.xlim((0, 50))\n",
    "plt.legend(['train', 'test'], loc='upper right')\n",
    "plt.grid(b=True, which='major', color='#666666', linestyle='-')"
   ]
  },
  {
   "cell_type": "markdown",
   "metadata": {},
   "source": [
    "3. 8x64b"
   ]
  },
  {
   "cell_type": "code",
   "execution_count": 6,
   "metadata": {},
   "outputs": [
    {
     "name": "stdout",
     "output_type": "stream",
     "text": [
      "float32\n",
      "float64\n"
     ]
    }
   ],
   "source": [
    "from keras.models import Model\n",
    "from keras.layers import Flatten, Conv2D, Conv2DTranspose, Dense, Input, Reshape, concatenate, Activation\n",
    "from keras.utils import plot_model\n",
    "\n",
    "# encoder\n",
    "enc_input = Input(shape=(28,28,1), name='enc_input')\n",
    "x  = Conv2D(filters=32, kernel_size=(3,3), strides=(2,2), activation='relu', padding='same', name='conv1')(enc_input)\n",
    "x  = Conv2D(filters=64, kernel_size=(3,3), strides=(2,2), activation='relu', padding='same', name='conv2')(x)\n",
    "x = Flatten(name='flatten')(x)\n",
    "latent = Dense(units=8, activation='sigmoid', name='latent', dtype='float64')(x)\n",
    "\n",
    "# decoder\n",
    "dec_input = Input(shape=(8,), name='dec_input')\n",
    "x = Dense(units=7*7*8, activation='relu', name='dense')(dec_input)\n",
    "x = Reshape(target_shape=(7,7,8), name='reshape')(x)\n",
    "x = Conv2DTranspose(filters=64, kernel_size=3, strides=2, activation='relu', padding='same', name='deconv1')(x)\n",
    "x = Conv2DTranspose(filters=32, kernel_size=3, strides=2, activation='relu', padding='same', name='deconv2')(x)\n",
    "dec_output = Conv2DTranspose(filters=1, kernel_size=3, padding='same', name='pt_conv')(x)\n",
    "\n",
    "encoder = Model(enc_input, latent, name=\"Encoder\")\n",
    "decoder = Model(dec_input, dec_output, name=\"Decoder\")\n",
    "model = Model(encoder.input, decoder(encoder.output))\n",
    "model.compile(loss='mse', optimizer='adam')\n",
    "\n",
    "# print(model.summary())\n",
    "print(model.layers[3].dtype)\n",
    "print(model.layers[4].dtype)"
   ]
  },
  {
   "cell_type": "code",
   "execution_count": 7,
   "metadata": {
    "collapsed": true,
    "jupyter": {
     "outputs_hidden": true
    }
   },
   "outputs": [
    {
     "name": "stdout",
     "output_type": "stream",
     "text": [
      "Epoch 1/25\n",
      "1875/1875 [==============================] - 9s 5ms/step - loss: 0.0331 - val_loss: 0.0256\n",
      "Epoch 2/25\n",
      "1875/1875 [==============================] - 9s 5ms/step - loss: 0.0248 - val_loss: 0.0235\n",
      "Epoch 3/25\n",
      "1875/1875 [==============================] - 9s 5ms/step - loss: 0.0232 - val_loss: 0.0224\n",
      "Epoch 4/25\n",
      "1875/1875 [==============================] - 9s 5ms/step - loss: 0.0222 - val_loss: 0.0215\n",
      "Epoch 5/25\n",
      "1875/1875 [==============================] - 9s 5ms/step - loss: 0.0215 - val_loss: 0.0208\n",
      "Epoch 6/25\n",
      "1875/1875 [==============================] - 9s 5ms/step - loss: 0.0210 - val_loss: 0.0210\n",
      "Epoch 7/25\n",
      "1875/1875 [==============================] - 9s 5ms/step - loss: 0.0206 - val_loss: 0.0202\n",
      "Epoch 8/25\n",
      "1875/1875 [==============================] - 9s 5ms/step - loss: 0.0203 - val_loss: 0.0200\n",
      "Epoch 9/25\n",
      "1875/1875 [==============================] - 9s 5ms/step - loss: 0.0201 - val_loss: 0.0196\n",
      "Epoch 10/25\n",
      "1875/1875 [==============================] - 9s 5ms/step - loss: 0.0198 - val_loss: 0.0194\n",
      "Epoch 11/25\n",
      "1875/1875 [==============================] - 9s 5ms/step - loss: 0.0196 - val_loss: 0.0193\n",
      "Epoch 12/25\n",
      "1875/1875 [==============================] - 9s 5ms/step - loss: 0.0195 - val_loss: 0.0192\n",
      "Epoch 13/25\n",
      "1875/1875 [==============================] - 9s 5ms/step - loss: 0.0193 - val_loss: 0.0191\n",
      "Epoch 14/25\n",
      "1875/1875 [==============================] - 9s 5ms/step - loss: 0.0192 - val_loss: 0.0189\n",
      "Epoch 15/25\n",
      "1875/1875 [==============================] - 9s 5ms/step - loss: 0.0191 - val_loss: 0.0188\n",
      "Epoch 16/25\n",
      "1875/1875 [==============================] - 9s 5ms/step - loss: 0.0189 - val_loss: 0.0188\n",
      "Epoch 17/25\n",
      "1875/1875 [==============================] - 9s 5ms/step - loss: 0.0189 - val_loss: 0.0186\n",
      "Epoch 18/25\n",
      "1875/1875 [==============================] - 9s 5ms/step - loss: 0.0188 - val_loss: 0.0186\n",
      "Epoch 19/25\n",
      "1875/1875 [==============================] - 9s 5ms/step - loss: 0.0187 - val_loss: 0.0184\n",
      "Epoch 20/25\n",
      "1875/1875 [==============================] - 10s 5ms/step - loss: 0.0186 - val_loss: 0.0184\n",
      "Epoch 21/25\n",
      "1875/1875 [==============================] - 9s 5ms/step - loss: 0.0185 - val_loss: 0.0185\n",
      "Epoch 22/25\n",
      "1875/1875 [==============================] - 9s 5ms/step - loss: 0.0185 - val_loss: 0.0183\n",
      "Epoch 23/25\n",
      "1875/1875 [==============================] - 9s 5ms/step - loss: 0.0184 - val_loss: 0.0186\n",
      "Epoch 24/25\n",
      "1875/1875 [==============================] - 9s 5ms/step - loss: 0.0184 - val_loss: 0.0183\n",
      "Epoch 25/25\n",
      "1875/1875 [==============================] - 9s 5ms/step - loss: 0.0183 - val_loss: 0.0181\n"
     ]
    },
    {
     "data": {
      "image/png": "[encoded data removed]",
      "text/plain": [
       "<Figure size 432x288 with 1 Axes>"
      ]
     },
     "metadata": {
      "needs_background": "light"
     },
     "output_type": "display_data"
    }
   ],
   "source": [
    "history = model.fit(x_train, x_train, validation_data=(x_test, x_test), epochs=25, batch_size=32)\n",
    "\n",
    "import matplotlib.pyplot as plt\n",
    "\n",
    "plt.plot(history.history['loss'])\n",
    "plt.plot(history.history['val_loss'])\n",
    "plt.title('No-Split training')\n",
    "plt.ylabel('MSE loss')\n",
    "# plt.ylim((0.005, 0.02))\n",
    "plt.xlabel('epoch')\n",
    "# plt.xlim((0, 50))\n",
    "plt.legend(['train', 'test'], loc='upper right')\n",
    "plt.grid(b=True, which='major', color='#666666', linestyle='-')"
   ]
  },
  {
   "cell_type": "markdown",
   "metadata": {},
   "source": [
    "4. Pretrained 16x32b weights on 16x16b model."
   ]
  },
  {
   "cell_type": "code",
   "execution_count": 2,
   "metadata": {},
   "outputs": [
    {
     "name": "stdout",
     "output_type": "stream",
     "text": [
      "float32\n",
      "float16\n"
     ]
    }
   ],
   "source": [
    "from keras.models import Model\n",
    "from keras.layers import Flatten, Conv2D, Conv2DTranspose, Dense, Input, Reshape, concatenate, Activation\n",
    "from keras.utils import plot_model\n",
    "\n",
    "# encoder\n",
    "enc_input = Input(shape=(28,28,1), name='enc_input')\n",
    "x  = Conv2D(filters=32, kernel_size=(3,3), strides=(2,2), activation='relu', padding='same', name='conv1')(enc_input)\n",
    "x  = Conv2D(filters=64, kernel_size=(3,3), strides=(2,2), activation='relu', padding='same', name='conv2')(x)\n",
    "x = Flatten(name='flatten')(x)\n",
    "latent = Dense(units=16, activation='sigmoid', name='latent', dtype='float16')(x)\n",
    "\n",
    "# decoder\n",
    "dec_input = Input(shape=(16,), name='dec_input')\n",
    "x = Dense(units=7*7*8, activation='relu', name='dense')(dec_input)\n",
    "x = Reshape(target_shape=(7,7,8), name='reshape')(x)\n",
    "x = Conv2DTranspose(filters=64, kernel_size=3, strides=2, activation='relu', padding='same', name='deconv1')(x)\n",
    "x = Conv2DTranspose(filters=32, kernel_size=3, strides=2, activation='relu', padding='same', name='deconv2')(x)\n",
    "dec_output = Conv2DTranspose(filters=1, kernel_size=3, padding='same', name='pt_conv')(x)\n",
    "\n",
    "encoder = Model(enc_input, latent, name=\"Encoder\")\n",
    "decoder = Model(dec_input, dec_output, name=\"Decoder\")\n",
    "model = Model(encoder.input, decoder(encoder.output))\n",
    "\n",
    "model.load_weights('../weights/40_CAE16_epoch50_weights.h5')\n",
    "model.compile(loss='mse', optimizer='adam')\n",
    "\n",
    "print(model.layers[3].dtype)\n",
    "print(model.layers[4].dtype)"
   ]
  },
  {
   "cell_type": "code",
   "execution_count": 3,
   "metadata": {},
   "outputs": [
    {
     "name": "stdout",
     "output_type": "stream",
     "text": [
      "Epoch 1/25\n",
      "1875/1875 [==============================] - 8s 4ms/step - loss: 0.0171 - val_loss: 0.0137\n",
      "Epoch 2/25\n",
      "1875/1875 [==============================] - 8s 4ms/step - loss: 0.0137 - val_loss: 0.0123\n",
      "Epoch 3/25\n",
      "1875/1875 [==============================] - 8s 4ms/step - loss: 0.0131 - val_loss: 0.0120\n",
      "Epoch 4/25\n",
      "1875/1875 [==============================] - 8s 4ms/step - loss: 0.0119 - val_loss: 0.0115\n",
      "Epoch 5/25\n",
      "1875/1875 [==============================] - 8s 4ms/step - loss: 0.0117 - val_loss: 0.0114\n",
      "Epoch 6/25\n",
      "1875/1875 [==============================] - 8s 4ms/step - loss: 0.0115 - val_loss: 0.0114\n",
      "Epoch 7/25\n",
      "1875/1875 [==============================] - 8s 4ms/step - loss: 0.0122 - val_loss: 0.0196\n",
      "Epoch 8/25\n",
      "1875/1875 [==============================] - 8s 4ms/step - loss: 0.0125 - val_loss: 0.0117\n",
      "Epoch 9/25\n",
      "1875/1875 [==============================] - 8s 4ms/step - loss: 0.0120 - val_loss: 0.0117\n",
      "Epoch 10/25\n",
      "1875/1875 [==============================] - 8s 4ms/step - loss: 0.0120 - val_loss: 0.0117\n",
      "Epoch 11/25\n",
      "1875/1875 [==============================] - 8s 4ms/step - loss: 0.0117 - val_loss: 0.0116\n",
      "Epoch 12/25\n",
      "1875/1875 [==============================] - 8s 4ms/step - loss: 0.0116 - val_loss: 0.0114\n",
      "Epoch 13/25\n",
      "1875/1875 [==============================] - 8s 5ms/step - loss: 0.0115 - val_loss: 0.0113\n",
      "Epoch 14/25\n",
      "1875/1875 [==============================] - 9s 5ms/step - loss: 0.0123 - val_loss: 0.0124\n",
      "Epoch 15/25\n",
      "1875/1875 [==============================] - 8s 4ms/step - loss: 0.0120 - val_loss: 0.0117\n",
      "Epoch 16/25\n",
      "1875/1875 [==============================] - 9s 5ms/step - loss: 0.0118 - val_loss: 0.0117\n",
      "Epoch 17/25\n",
      "1875/1875 [==============================] - 8s 4ms/step - loss: 0.0117 - val_loss: 0.0115\n",
      "Epoch 18/25\n",
      "1875/1875 [==============================] - 8s 4ms/step - loss: 0.0116 - val_loss: 0.0115\n",
      "Epoch 19/25\n",
      "1875/1875 [==============================] - 8s 4ms/step - loss: 0.0115 - val_loss: 0.0115\n",
      "Epoch 20/25\n",
      "1875/1875 [==============================] - 8s 4ms/step - loss: 0.0115 - val_loss: 0.0112\n",
      "Epoch 21/25\n",
      "1875/1875 [==============================] - 8s 4ms/step - loss: 0.0114 - val_loss: 0.0115\n",
      "Epoch 22/25\n",
      "1875/1875 [==============================] - 8s 4ms/step - loss: 0.0114 - val_loss: 0.0113\n",
      "Epoch 23/25\n",
      "1875/1875 [==============================] - 8s 4ms/step - loss: 0.0118 - val_loss: 0.0116\n",
      "Epoch 24/25\n",
      "1875/1875 [==============================] - 8s 4ms/step - loss: 0.0116 - val_loss: 0.0115\n",
      "Epoch 25/25\n",
      "1875/1875 [==============================] - 8s 4ms/step - loss: 0.0119 - val_loss: 0.0114\n"
     ]
    },
    {
     "data": {
      "image/png": "[encoded data removed]",
      "text/plain": [
       "<Figure size 432x288 with 1 Axes>"
      ]
     },
     "metadata": {
      "needs_background": "light"
     },
     "output_type": "display_data"
    }
   ],
   "source": [
    "history = model.fit(x_train, x_train, validation_data=(x_test, x_test), epochs=25, batch_size=32)\n",
    "\n",
    "import matplotlib.pyplot as plt\n",
    "\n",
    "plt.plot(history.history['loss'])\n",
    "plt.plot(history.history['val_loss'])\n",
    "plt.title('No-Split training')\n",
    "plt.ylabel('MSE loss')\n",
    "# plt.ylim((0.005, 0.02))\n",
    "plt.xlabel('epoch')\n",
    "# plt.xlim((0, 50))\n",
    "plt.legend(['train', 'test'], loc='upper right')\n",
    "plt.grid(b=True, which='major', color='#666666', linestyle='-')"
   ]
  }
 ],
 "metadata": {
  "kernelspec": {
   "display_name": "Python 3",
   "language": "python",
   "name": "python3"
  },
  "language_info": {
   "codemirror_mode": {
    "name": "ipython",
    "version": 3
   },
   "file_extension": ".py",
   "mimetype": "text/x-python",
   "name": "python",
   "nbconvert_exporter": "python",
   "pygments_lexer": "ipython3",
   "version": "3.8.5"
  }
 },
 "nbformat": 4,
 "nbformat_minor": 4
}
