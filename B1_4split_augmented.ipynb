{
 "cells": [
  {
   "cell_type": "code",
   "execution_count": 37,
   "metadata": {},
   "outputs": [],
   "source": [
    "import keras\n",
    "import numpy as np\n",
    "\n",
    "(x_train, y_train), (x_test, y_test) = keras.datasets.mnist.load_data()\n",
    "\n",
    "x_train = x_train.reshape(x_train.shape[0], 28, 28, 1)\n",
    "x_train = x_train.astype('float32') / 255.\n",
    "# x_train = np.pad(x_train, [(0,0), (14,14), (14,14), (0,0)], mode='constant', constant_values=0)\n",
    "# y_train = keras.utils.to_categorical(y_train, num_classes=10)\n",
    "\n",
    "x_test = x_test.reshape(x_test.shape[0], 28, 28, 1)\n",
    "x_test = x_test.astype('float32') / 255.\n",
    "# x_test = np.pad(x_test, [(0,0), (14,14), (14,14), (0,0)], mode='constant', constant_values=0)\n",
    "# y_test = keras.utils.to_categorical(y_test, num_classes=10)"
   ]
  },
  {
   "cell_type": "code",
   "execution_count": 38,
   "metadata": {},
   "outputs": [
    {
     "ename": "ValueError",
     "evalue": "cannot reshape array of size 784 into shape (56,56)",
     "output_type": "error",
     "traceback": [
      "\u001b[0;31m---------------------------------------------------------------------------\u001b[0m",
      "\u001b[0;31mValueError\u001b[0m                                Traceback (most recent call last)",
      "\u001b[0;32m<ipython-input-38-d437f48ce8ef>\u001b[0m in \u001b[0;36m<module>\u001b[0;34m\u001b[0m\n\u001b[1;32m      1\u001b[0m \u001b[0;32mimport\u001b[0m \u001b[0mmatplotlib\u001b[0m\u001b[0;34m.\u001b[0m\u001b[0mpyplot\u001b[0m \u001b[0;32mas\u001b[0m \u001b[0mplt\u001b[0m\u001b[0;34m\u001b[0m\u001b[0;34m\u001b[0m\u001b[0m\n\u001b[0;32m----> 2\u001b[0;31m \u001b[0mplt\u001b[0m\u001b[0;34m.\u001b[0m\u001b[0mimshow\u001b[0m\u001b[0;34m(\u001b[0m\u001b[0mx_train\u001b[0m\u001b[0;34m[\u001b[0m\u001b[0;36m0\u001b[0m\u001b[0;34m]\u001b[0m\u001b[0;34m.\u001b[0m\u001b[0mreshape\u001b[0m\u001b[0;34m(\u001b[0m\u001b[0;36m56\u001b[0m\u001b[0;34m,\u001b[0m\u001b[0;36m56\u001b[0m\u001b[0;34m)\u001b[0m\u001b[0;34m)\u001b[0m\u001b[0;34m\u001b[0m\u001b[0;34m\u001b[0m\u001b[0m\n\u001b[0m",
      "\u001b[0;31mValueError\u001b[0m: cannot reshape array of size 784 into shape (56,56)"
     ]
    }
   ],
   "source": [
    "import matplotlib.pyplot as plt\n",
    "plt.imshow(x_train[0].reshape(56,56))"
   ]
  },
  {
   "cell_type": "code",
   "execution_count": 39,
   "metadata": {},
   "outputs": [],
   "source": [
    "import tensorflow as tf\n",
    "import numpy as np\n",
    "import keras\n",
    "\n",
    "def random_crop(x):\n",
    "    cropped = tf.image.random_crop(x, size=[14, 14, 1])\n",
    "    return cropped\n",
    "\n",
    "class crop_generator(keras.utils.Sequence):\n",
    "    def __init__(self, x_data, y_data, batch_size=32):\n",
    "        self.x_data = x_data\n",
    "        self.y_data = y_data\n",
    "        self.batch_size = batch_size\n",
    "        self.on_epoch_end()\n",
    "        \n",
    "    def __len__(self):\n",
    "        return len(self.x_data) // self.batch_size\n",
    "    \n",
    "    def on_epoch_end(self):\n",
    "        # create list of indices & shuffle\n",
    "        self.indices = np.arange(len(self.x_data))\n",
    "        np.random.shuffle(self.indices)\n",
    "            \n",
    "    def __getitem__(self, batch_index):\n",
    "        data_indices = self.indices[batch_index*self.batch_size : (batch_index+1)*self.batch_size]\n",
    "        X = np.empty((self.batch_size, 14, 14, 1))\n",
    "#         X = np.empty((self.batch_size, 28,28, 1))\n",
    "        Y = np.empty((self.batch_size), dtype=int)\n",
    "        for i, idx in enumerate(data_indices):\n",
    "            X[i] = random_crop(self.x_data[idx])\n",
    "            Y[i] = self.y_data[idx]\n",
    "        return X, keras.utils.to_categorical(Y, num_classes=10)\n",
    "\n",
    "train_data = crop_generator(x_train, y_train)\n",
    "test_data = crop_generator(x_test, y_test)\n",
    "# for (x, y), i in zip(train_data, range(1)):\n",
    "#     print(len(x), len(y))"
   ]
  },
  {
   "cell_type": "code",
   "execution_count": 42,
   "metadata": {},
   "outputs": [],
   "source": [
    "from keras.models import Model\n",
    "from keras.layers import Flatten, Conv2D, Conv2DTranspose, Dense, Input, Reshape, concatenate, Activation\n",
    "from keras.utils import plot_model\n",
    "\n",
    "# encoder\n",
    "enc_input = Input(shape=(14,14,1), name='enc_input')\n",
    "# enc_input = Input(shape=(56,56,1), name='enc_input')\n",
    "# x = keras.layers.experimental.preprocessing.RandomCrop(14,14)(enc_input)\n",
    "x = Conv2D(filters=32, kernel_size=(3,3), strides=(2,2), activation='relu', padding='same', name='conv1')(enc_input)\n",
    "x = Conv2D(filters=64, kernel_size=(3,3), strides=(2,2), activation='relu', padding='same', name='conv2')(x)\n",
    "x = Flatten(name='flatten')(x)\n",
    "# latent = Dense(units=4, activation='sigmoid', name='latent')(x)\n",
    "latent = Dense(units=4, name='latent')(x)\n",
    "\n",
    "# classifier\n",
    "# x = Dense(256, activation='relu')(latent)\n",
    "# x = Dense(128, activation='relu')(x)\n",
    "dec_input = Input(shape=(4,), name='dec_input')\n",
    "x = Dense(64, activation='relu')(dec_input)\n",
    "dec_output = Dense(10, activation='softmax', name='classifier_out')(x)\n",
    "\n",
    "encoder = Model(enc_input, latent, name=\"Encoder\")\n",
    "decoder = Model(dec_input, dec_output, name=\"Decoder\")\n",
    "model = Model(encoder.input, decoder(encoder.output))\n",
    "\n",
    "model.compile(loss='categorical_crossentropy', optimizer='adam', metrics=['acc'])"
   ]
  },
  {
   "cell_type": "code",
   "execution_count": 43,
   "metadata": {},
   "outputs": [
    {
     "name": "stdout",
     "output_type": "stream",
     "text": [
      "Epoch 1/20\n",
      "1875/1875 [==============================] - 47s 25ms/step - loss: 1.6882 - acc: 0.3900 - val_loss: 1.4265 - val_acc: 0.4766\n",
      "Epoch 2/20\n",
      "1875/1875 [==============================] - 48s 25ms/step - loss: 1.4094 - acc: 0.4958 - val_loss: 1.3129 - val_acc: 0.5287\n",
      "Epoch 3/20\n",
      "1875/1875 [==============================] - 47s 25ms/step - loss: 1.2999 - acc: 0.5401 - val_loss: 1.2444 - val_acc: 0.5623\n",
      "Epoch 4/20\n",
      "1875/1875 [==============================] - 47s 25ms/step - loss: 1.2395 - acc: 0.5635 - val_loss: 1.2019 - val_acc: 0.5738\n",
      "Epoch 5/20\n",
      "1875/1875 [==============================] - 45s 24ms/step - loss: 1.1959 - acc: 0.5797 - val_loss: 1.1356 - val_acc: 0.5936\n",
      "Epoch 6/20\n",
      "1875/1875 [==============================] - 45s 24ms/step - loss: 1.1670 - acc: 0.5883 - val_loss: 1.1150 - val_acc: 0.6096\n",
      "Epoch 7/20\n",
      "1875/1875 [==============================] - 45s 24ms/step - loss: 1.1367 - acc: 0.6001 - val_loss: 1.0946 - val_acc: 0.6188\n",
      "Epoch 8/20\n",
      "1875/1875 [==============================] - 44s 24ms/step - loss: 1.1100 - acc: 0.6115 - val_loss: 1.0620 - val_acc: 0.6212\n",
      "Epoch 9/20\n",
      "1875/1875 [==============================] - 44s 23ms/step - loss: 1.0914 - acc: 0.6173 - val_loss: 1.0626 - val_acc: 0.6270\n",
      "Epoch 10/20\n",
      "1875/1875 [==============================] - 45s 24ms/step - loss: 1.0781 - acc: 0.6231 - val_loss: 1.0291 - val_acc: 0.6329\n",
      "Epoch 11/20\n",
      "1875/1875 [==============================] - 45s 24ms/step - loss: 1.0519 - acc: 0.6317 - val_loss: 0.9983 - val_acc: 0.6486\n",
      "Epoch 12/20\n",
      "1875/1875 [==============================] - 44s 24ms/step - loss: 1.0359 - acc: 0.6362 - val_loss: 0.9786 - val_acc: 0.6556\n",
      "Epoch 13/20\n",
      "1875/1875 [==============================] - 45s 24ms/step - loss: 1.0259 - acc: 0.6413 - val_loss: 0.9655 - val_acc: 0.6605\n",
      "Epoch 14/20\n",
      "1875/1875 [==============================] - 45s 24ms/step - loss: 1.0193 - acc: 0.6443 - val_loss: 0.9825 - val_acc: 0.6560\n",
      "Epoch 15/20\n",
      "1875/1875 [==============================] - 44s 23ms/step - loss: 1.0023 - acc: 0.6522 - val_loss: 0.9554 - val_acc: 0.6633\n",
      "Epoch 16/20\n",
      "1875/1875 [==============================] - 44s 23ms/step - loss: 0.9862 - acc: 0.6589 - val_loss: 0.9528 - val_acc: 0.6656\n",
      "Epoch 17/20\n",
      "1875/1875 [==============================] - 44s 23ms/step - loss: 0.9876 - acc: 0.6537 - val_loss: 0.9413 - val_acc: 0.6727\n",
      "Epoch 18/20\n",
      "1875/1875 [==============================] - 43s 23ms/step - loss: 0.9684 - acc: 0.6637 - val_loss: 0.9522 - val_acc: 0.6683\n",
      "Epoch 19/20\n",
      "1875/1875 [==============================] - 45s 24ms/step - loss: 0.9779 - acc: 0.6589 - val_loss: 0.9293 - val_acc: 0.6765\n",
      "Epoch 20/20\n",
      "1875/1875 [==============================] - 39s 21ms/step - loss: 0.9598 - acc: 0.6666 - val_loss: 0.9167 - val_acc: 0.6777\n"
     ]
    }
   ],
   "source": [
    "history = model.fit(train_data, validation_data=(test_data), epochs=20)\n",
    "# history = model.fit(x_train, y_train, validation_data=(x_test, y_test), epochs=20)"
   ]
  },
  {
   "cell_type": "code",
   "execution_count": 22,
   "metadata": {},
   "outputs": [
    {
     "name": "stdout",
     "output_type": "stream",
     "text": [
      "7 0.99990845\n"
     ]
    }
   ],
   "source": [
    "# x = np.zeros((1,56,56,1), dtype='float32')\n",
    "x = x_test[0].reshape(1,56,56,1)\n",
    "pred = model.predict(x)\n",
    "print(np.argmax(pred), np.max(pred))"
   ]
  }
 ],
 "metadata": {
  "kernelspec": {
   "display_name": "Python 3",
   "language": "python",
   "name": "python3"
  },
  "language_info": {
   "codemirror_mode": {
    "name": "ipython",
    "version": 3
   },
   "file_extension": ".py",
   "mimetype": "text/x-python",
   "name": "python",
   "nbconvert_exporter": "python",
   "pygments_lexer": "ipython3",
   "version": "3.8.5"
  }
 },
 "nbformat": 4,
 "nbformat_minor": 4
}
